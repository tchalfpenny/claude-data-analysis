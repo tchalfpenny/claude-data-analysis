{
 "cells": [
  {
   "cell_type": "markdown",
   "id": "introduction",
   "metadata": {},
   "source": [
    "# E-Commerce Business Analytics Dashboard\n",
    "\n",
    "## Executive Summary\n",
    "\n",
    "This notebook provides comprehensive analysis of e-commerce business performance, focusing on revenue trends, customer satisfaction, product performance, and operational metrics. The analysis framework is designed to be configurable for different time periods and can be easily adapted for ongoing business monitoring.\n",
    "\n",
    "### Key Business Questions Addressed:\n",
    "- How is revenue performing compared to previous periods?\n",
    "- What are the monthly growth trends?\n",
    "- Which product categories drive the most revenue?\n",
    "- How does geographic distribution affect sales performance?\n",
    "- What is the relationship between delivery speed and customer satisfaction?\n",
    "- What are our key operational performance indicators?\n",
    "\n",
    "---"
   ]
  },
  {
   "cell_type": "markdown",
   "id": "table-of-contents",
   "metadata": {},
   "source": [
    "## Table of Contents\n",
    "\n",
    "1. [Configuration & Setup](#configuration--setup)\n",
    "2. [Data Dictionary](#data-dictionary)\n",
    "3. [Data Loading & Validation](#data-loading--validation)\n",
    "4. [Revenue Performance Analysis](#revenue-performance-analysis)\n",
    "5. [Product Category Analysis](#product-category-analysis)\n",
    "6. [Geographic Performance Analysis](#geographic-performance-analysis)\n",
    "7. [Customer Experience Analysis](#customer-experience-analysis)\n",
    "8. [Executive Summary & Key Insights](#executive-summary--key-insights)\n",
    "\n",
    "---"
   ]
  },
  {
   "cell_type": "markdown",
   "id": "configuration-setup",
   "metadata": {},
   "source": [
    "## Configuration & Setup\n",
    "\n",
    "Configure the analysis parameters and import required modules."
   ]
  },
  {
   "cell_type": "code",
   "execution_count": 52,
   "id": "config-cell",
   "metadata": {},
   "outputs": [
    {
     "name": "stdout",
     "output_type": "stream",
     "text": [
      "Analysis Configuration:\n",
      "Target Year: 2023\n",
      "Comparison Year: 2022\n",
      "Target Month: Full Year\n",
      "Data Path: ecommerce_data\n"
     ]
    }
   ],
   "source": [
    "# Analysis Configuration\n",
    "TARGET_YEAR = 2023\n",
    "COMPARISON_YEAR = 2022\n",
    "TARGET_MONTH = None  # Set to specific month (1-12) or None for full year\n",
    "DATA_PATH = \"ecommerce_data\"\n",
    "\n",
    "# Display Settings\n",
    "import warnings\n",
    "warnings.filterwarnings('ignore')\n",
    "\n",
    "import pandas as pd\n",
    "import numpy as np\n",
    "import matplotlib.pyplot as plt\n",
    "import plotly.express as px\n",
    "import plotly.graph_objects as go\n",
    "from plotly.subplots import make_subplots\n",
    "import plotly.io as pio\n",
    "pio.templates.default = \"plotly_white\"\n",
    "\n",
    "# Import custom modules\n",
    "from data_loader import EcommerceDataLoader\n",
    "from business_metrics import EcommerceMetrics\n",
    "\n",
    "# Configure pandas display\n",
    "pd.set_option('display.max_columns', None)\n",
    "pd.set_option('display.width', 1000)\n",
    "pd.set_option('display.float_format', '{:.2f}'.format)\n",
    "\n",
    "print(f\"Analysis Configuration:\")\n",
    "print(f\"Target Year: {TARGET_YEAR}\")\n",
    "print(f\"Comparison Year: {COMPARISON_YEAR}\")\n",
    "print(f\"Target Month: {TARGET_MONTH if TARGET_MONTH else 'Full Year'}\")\n",
    "print(f\"Data Path: {DATA_PATH}\")"
   ]
  },
  {
   "cell_type": "markdown",
   "id": "data-dictionary",
   "metadata": {},
   "source": [
    "## Data Dictionary\n",
    "\n",
    "### Key Business Terms and Metrics\n",
    "\n",
    "| Metric | Definition | Business Relevance |\n",
    "|--------|------------|-------------------|\n",
    "| **Revenue** | Total monetary value from delivered orders | Primary business performance indicator |\n",
    "| **Average Order Value (AOV)** | Total revenue / Number of orders | Customer spending behavior |\n",
    "| **Month-over-Month Growth** | (Current Month - Previous Month) / Previous Month | Short-term trend analysis |\n",
    "| **Customer Satisfaction Rate** | Percentage of orders with 4+ star reviews | Quality of customer experience |\n",
    "| **Net Promoter Score (NPS)** | Promoters % - Detractors % | Customer loyalty indicator |\n",
    "| **Delivery Speed** | Days between order purchase and customer delivery | Operational efficiency |\n",
    "| **Fast Delivery Rate** | Percentage of orders delivered within 3 days | Premium service performance |\n",
    "\n",
    "### Dataset Schema\n",
    "\n",
    "**Orders Dataset:**\n",
    "- `order_id`: Unique identifier for each order\n",
    "- `customer_id`: Unique identifier for each customer\n",
    "- `order_status`: Current status (delivered, shipped, canceled, etc.)\n",
    "- `order_purchase_timestamp`: When the order was placed\n",
    "- `order_delivered_customer_date`: When order was delivered to customer\n",
    "\n",
    "**Order Items Dataset:**\n",
    "- `order_id`: Links to orders dataset\n",
    "- `product_id`: Unique identifier for each product\n",
    "- `price`: Item price in USD\n",
    "- `freight_value`: Shipping cost\n",
    "\n",
    "**Products Dataset:**\n",
    "- `product_id`: Links to order items\n",
    "- `product_category_name`: Product category classification\n",
    "\n",
    "**Customers Dataset:**\n",
    "- `customer_id`: Links to orders dataset\n",
    "- `customer_state`: Customer's state for geographic analysis\n",
    "\n",
    "**Reviews Dataset:**\n",
    "- `order_id`: Links to orders dataset\n",
    "- `review_score`: Customer rating (1-5 stars)\n",
    "\n",
    "---"
   ]
  },
  {
   "cell_type": "markdown",
   "id": "data-loading",
   "metadata": {},
   "source": [
    "## Data Loading & Validation\n",
    "\n",
    "Load all datasets and perform basic validation checks."
   ]
  },
  {
   "cell_type": "code",
   "execution_count": 53,
   "id": "load-data",
   "metadata": {},
   "outputs": [
    {
     "name": "stdout",
     "output_type": "stream",
     "text": [
      "Loaded orders: 10000 rows, 8 columns\n",
      "Loaded order_items: 16047 rows, 7 columns\n",
      "Loaded products: 6000 rows, 9 columns\n",
      "Loaded customers: 8000 rows, 5 columns\n",
      "Loaded reviews: 6571 rows, 7 columns\n",
      "Loaded payments: 14091 rows, 5 columns\n",
      "\n",
      "Dataset Summary:\n",
      "                rows  columns  missing_values  memory_usage\n",
      "orders      10000.00     8.00          927.00          5.57\n",
      "order_items 16047.00     7.00            0.00          5.08\n",
      "products     6000.00     9.00            0.00          1.13\n",
      "customers    8000.00     5.00            0.00          2.08\n",
      "reviews      6571.00     7.00         7157.00          2.97\n",
      "payments    14091.00     5.00            0.00          2.15\n"
     ]
    }
   ],
   "source": [
    "# Initialize data loader and load all datasets\n",
    "loader = EcommerceDataLoader(DATA_PATH)\n",
    "datasets = loader.load_all_datasets()\n",
    "\n",
    "# Display dataset information\n",
    "print(\"\\nDataset Summary:\")\n",
    "dataset_info = loader.get_dataset_info()\n",
    "info_df = pd.DataFrame(dataset_info).T\n",
    "print(info_df)"
   ]
  },
  {
   "cell_type": "code",
   "execution_count": 54,
   "id": "prepare-analysis-data",
   "metadata": {},
   "outputs": [
    {
     "name": "stdout",
     "output_type": "stream",
     "text": [
      "Preparing data for analysis...\n",
      "Target Period (2023): 7,448 records, 4,635 orders\n",
      "Comparison Period (2022): 7,641 records, 4,749 orders\n",
      "\n",
      "Enhanced datasets prepared successfully.\n"
     ]
    }
   ],
   "source": [
    "# Create analysis datasets\n",
    "print(f\"Preparing data for analysis...\")\n",
    "\n",
    "# Primary analysis dataset (target year)\n",
    "sales_target = loader.create_sales_dataset(\n",
    "    target_year=TARGET_YEAR, \n",
    "    target_month=TARGET_MONTH,\n",
    "    order_status='delivered'\n",
    ")\n",
    "\n",
    "# Comparison dataset (previous year)\n",
    "sales_comparison = loader.create_sales_dataset(\n",
    "    target_year=COMPARISON_YEAR,\n",
    "    target_month=TARGET_MONTH,\n",
    "    order_status='delivered'\n",
    ")\n",
    "\n",
    "print(f\"Target Period ({TARGET_YEAR}): {len(sales_target):,} records, {sales_target['order_id'].nunique():,} orders\")\n",
    "print(f\"Comparison Period ({COMPARISON_YEAR}): {len(sales_comparison):,} records, {sales_comparison['order_id'].nunique():,} orders\")\n",
    "\n",
    "# Add enhanced datasets with additional information\n",
    "sales_with_delivery = loader.add_delivery_metrics(sales_target)\n",
    "sales_with_reviews = loader.get_review_data(sales_target)\n",
    "sales_with_categories = loader.get_product_categories_data(sales_target)\n",
    "sales_with_states = loader.get_customer_geographic_data(sales_target)\n",
    "\n",
    "print(f\"\\nEnhanced datasets prepared successfully.\")"
   ]
  },
  {
   "cell_type": "markdown",
   "id": "revenue-analysis",
   "metadata": {},
   "source": [
    "## Revenue Performance Analysis\n",
    "\n",
    "Comprehensive analysis of revenue trends, growth rates, and key performance indicators."
   ]
  },
  {
   "cell_type": "code",
   "execution_count": 55,
   "id": "revenue-metrics",
   "metadata": {},
   "outputs": [
    {
     "name": "stdout",
     "output_type": "stream",
     "text": [
      "REVENUE PERFORMANCE METRICS\n",
      "========================================\n",
      "Total Revenue (2023): $3,360,294.74\n",
      "Total Orders: 4,635\n",
      "Average Order Value: $724.98\n",
      "Average Item Price: $451.17\n",
      "\n",
      "YEAR-OVER-YEAR COMPARISON\n",
      "========================================\n",
      "Revenue Growth: -2.46%\n",
      "Order Volume Growth: -2.40%\n",
      "AOV Growth: -0.06%\n",
      "\n",
      "DETAILED COMPARISON TABLE:\n",
      "             Metric       2023       2022 Growth Rate\n",
      "            Revenue $3,360,295 $3,445,077      -2.46%\n",
      "             Orders      4,635      4,749      -2.40%\n",
      "Average Order Value    $724.98    $725.43      -0.06%\n"
     ]
    }
   ],
   "source": [
    "# Initialize metrics calculator\n",
    "metrics = EcommerceMetrics()\n",
    "\n",
    "# Calculate revenue metrics with year-over-year comparison\n",
    "revenue_metrics = metrics.calculate_revenue_metrics(sales_target, sales_comparison)\n",
    "\n",
    "# Display key metrics\n",
    "print(\"REVENUE PERFORMANCE METRICS\")\n",
    "print(\"=\" * 40)\n",
    "print(f\"Total Revenue ({TARGET_YEAR}): ${revenue_metrics['total_revenue']:,.2f}\")\n",
    "print(f\"Total Orders: {revenue_metrics['total_orders']:,}\")\n",
    "print(f\"Average Order Value: ${revenue_metrics['average_order_value']:.2f}\")\n",
    "print(f\"Average Item Price: ${revenue_metrics['average_item_price']:.2f}\")\n",
    "print(f\"\")\n",
    "print(\"YEAR-OVER-YEAR COMPARISON\")\n",
    "print(\"=\" * 40)\n",
    "print(f\"Revenue Growth: {revenue_metrics['revenue_growth_rate']:.2f}%\")\n",
    "print(f\"Order Volume Growth: {revenue_metrics['order_growth_rate']:.2f}%\")\n",
    "print(f\"AOV Growth: {revenue_metrics['aov_growth_rate']:.2f}%\")\n",
    "\n",
    "# Create revenue metrics summary table\n",
    "comparison_data = {\n",
    "    'Metric': ['Revenue', 'Orders', 'Average Order Value'],\n",
    "    f'{TARGET_YEAR}': [f\"${revenue_metrics['total_revenue']:,.0f}\", \n",
    "                      f\"{revenue_metrics['total_orders']:,}\",\n",
    "                      f\"${revenue_metrics['average_order_value']:.2f}\"],\n",
    "    f'{COMPARISON_YEAR}': [f\"${revenue_metrics['previous_revenue']:,.0f}\",\n",
    "                          f\"{revenue_metrics['previous_orders']:,}\",\n",
    "                          f\"${revenue_metrics['previous_aov']:.2f}\"],\n",
    "    'Growth Rate': [f\"{revenue_metrics['revenue_growth_rate']:.2f}%\",\n",
    "                   f\"{revenue_metrics['order_growth_rate']:.2f}%\",\n",
    "                   f\"{revenue_metrics['aov_growth_rate']:.2f}%\"]\n",
    "}\n",
    "\n",
    "comparison_df = pd.DataFrame(comparison_data)\n",
    "print(f\"\\nDETAILED COMPARISON TABLE:\")\n",
    "print(comparison_df.to_string(index=False))"
   ]
  },
  {
   "cell_type": "code",
   "execution_count": 56,
   "id": "monthly-trends",
   "metadata": {},
   "outputs": [
    {
     "name": "stdout",
     "output_type": "stream",
     "text": [
      "MONTHLY PERFORMANCE TRENDS (2023)\n",
      "==================================================\n",
      " month   revenue  orders    aov  revenue_growth  order_growth  aov_growth\n",
      "     1 284855.48     384    NaN             NaN           NaN         NaN\n",
      "     2 276758.54     384 741.81           -2.84          0.00         NaN\n",
      "     3 285618.77     394 720.73            3.20          2.60       -2.84\n",
      "     4 253794.62     370 724.92          -11.14         -6.09        0.58\n",
      "     5 301347.96     396 685.93           18.74          7.03       -5.38\n",
      "     6 289126.72     406 760.98           -4.06          2.53       10.94\n",
      "     7 296209.39     392 712.13            2.45         -3.45       -6.42\n",
      "     8 286645.60     375 755.64           -3.23         -4.34        6.11\n",
      "     9 303793.15     384 764.39            5.98          2.40        1.16\n",
      "    10 259890.15     379 791.13          -14.45         -1.30        3.50\n",
      "    11 259518.93     384 685.73           -0.14          1.32      -13.32\n",
      "    12 262735.43     387 675.83            1.24          0.78       -1.44\n",
      "\n",
      "Average Monthly Growth Rate: -0.39%\n"
     ]
    }
   ],
   "source": [
    "# Calculate monthly trends\n",
    "monthly_trends = metrics.calculate_monthly_trends(sales_target)\n",
    "\n",
    "print(f\"MONTHLY PERFORMANCE TRENDS ({TARGET_YEAR})\")\n",
    "print(\"=\" * 50)\n",
    "print(monthly_trends.to_string(index=False))\n",
    "\n",
    "# Calculate average monthly growth\n",
    "avg_monthly_growth = monthly_trends['revenue_growth'].mean()\n",
    "print(f\"\\nAverage Monthly Growth Rate: {avg_monthly_growth:.2f}%\")"
   ]
  },
  {
   "cell_type": "code",
   "execution_count": 57,
   "id": "revenue-visualization",
   "metadata": {},
   "outputs": [
    {
     "data": {
      "application/vnd.plotly.v1+json": {
       "config": {
        "plotlyServerURL": "https://plot.ly"
       },
       "data": [
        {
         "line": {
          "color": "#1f77b4",
          "width": 3
         },
         "marker": {
          "size": 8
         },
         "mode": "lines+markers",
         "name": "Revenue",
         "type": "scatter",
         "x": {
          "bdata": "AQAAAAIAAAADAAAABAAAAAUAAAAGAAAABwAAAAgAAAAJAAAACgAAAAsAAAAMAAAA",
          "dtype": "i4"
         },
         "y": {
          "bdata": "uB6F691iEUGPwvUoWuQQQUjhehTLbhFBXI/C9RT7DkFxPQrXj2QSQRSuR+GapRFB9ihcj0UUEkFmZmZm1n4RQZqZmZnEihJBMzMzM5G5D0EK16Nw960PQYXrUbg9CRBB",
          "dtype": "f8"
         }
        }
       ],
       "layout": {
        "hovermode": "x unified",
        "template": {
         "data": {
          "bar": [
           {
            "error_x": {
             "color": "#2a3f5f"
            },
            "error_y": {
             "color": "#2a3f5f"
            },
            "marker": {
             "line": {
              "color": "white",
              "width": 0.5
             },
             "pattern": {
              "fillmode": "overlay",
              "size": 10,
              "solidity": 0.2
             }
            },
            "type": "bar"
           }
          ],
          "barpolar": [
           {
            "marker": {
             "line": {
              "color": "white",
              "width": 0.5
             },
             "pattern": {
              "fillmode": "overlay",
              "size": 10,
              "solidity": 0.2
             }
            },
            "type": "barpolar"
           }
          ],
          "carpet": [
           {
            "aaxis": {
             "endlinecolor": "#2a3f5f",
             "gridcolor": "#C8D4E3",
             "linecolor": "#C8D4E3",
             "minorgridcolor": "#C8D4E3",
             "startlinecolor": "#2a3f5f"
            },
            "baxis": {
             "endlinecolor": "#2a3f5f",
             "gridcolor": "#C8D4E3",
             "linecolor": "#C8D4E3",
             "minorgridcolor": "#C8D4E3",
             "startlinecolor": "#2a3f5f"
            },
            "type": "carpet"
           }
          ],
          "choropleth": [
           {
            "colorbar": {
             "outlinewidth": 0,
             "ticks": ""
            },
            "type": "choropleth"
           }
          ],
          "contour": [
           {
            "colorbar": {
             "outlinewidth": 0,
             "ticks": ""
            },
            "colorscale": [
             [
              0,
              "#0d0887"
             ],
             [
              0.1111111111111111,
              "#46039f"
             ],
             [
              0.2222222222222222,
              "#7201a8"
             ],
             [
              0.3333333333333333,
              "#9c179e"
             ],
             [
              0.4444444444444444,
              "#bd3786"
             ],
             [
              0.5555555555555556,
              "#d8576b"
             ],
             [
              0.6666666666666666,
              "#ed7953"
             ],
             [
              0.7777777777777778,
              "#fb9f3a"
             ],
             [
              0.8888888888888888,
              "#fdca26"
             ],
             [
              1,
              "#f0f921"
             ]
            ],
            "type": "contour"
           }
          ],
          "contourcarpet": [
           {
            "colorbar": {
             "outlinewidth": 0,
             "ticks": ""
            },
            "type": "contourcarpet"
           }
          ],
          "heatmap": [
           {
            "colorbar": {
             "outlinewidth": 0,
             "ticks": ""
            },
            "colorscale": [
             [
              0,
              "#0d0887"
             ],
             [
              0.1111111111111111,
              "#46039f"
             ],
             [
              0.2222222222222222,
              "#7201a8"
             ],
             [
              0.3333333333333333,
              "#9c179e"
             ],
             [
              0.4444444444444444,
              "#bd3786"
             ],
             [
              0.5555555555555556,
              "#d8576b"
             ],
             [
              0.6666666666666666,
              "#ed7953"
             ],
             [
              0.7777777777777778,
              "#fb9f3a"
             ],
             [
              0.8888888888888888,
              "#fdca26"
             ],
             [
              1,
              "#f0f921"
             ]
            ],
            "type": "heatmap"
           }
          ],
          "histogram": [
           {
            "marker": {
             "pattern": {
              "fillmode": "overlay",
              "size": 10,
              "solidity": 0.2
             }
            },
            "type": "histogram"
           }
          ],
          "histogram2d": [
           {
            "colorbar": {
             "outlinewidth": 0,
             "ticks": ""
            },
            "colorscale": [
             [
              0,
              "#0d0887"
             ],
             [
              0.1111111111111111,
              "#46039f"
             ],
             [
              0.2222222222222222,
              "#7201a8"
             ],
             [
              0.3333333333333333,
              "#9c179e"
             ],
             [
              0.4444444444444444,
              "#bd3786"
             ],
             [
              0.5555555555555556,
              "#d8576b"
             ],
             [
              0.6666666666666666,
              "#ed7953"
             ],
             [
              0.7777777777777778,
              "#fb9f3a"
             ],
             [
              0.8888888888888888,
              "#fdca26"
             ],
             [
              1,
              "#f0f921"
             ]
            ],
            "type": "histogram2d"
           }
          ],
          "histogram2dcontour": [
           {
            "colorbar": {
             "outlinewidth": 0,
             "ticks": ""
            },
            "colorscale": [
             [
              0,
              "#0d0887"
             ],
             [
              0.1111111111111111,
              "#46039f"
             ],
             [
              0.2222222222222222,
              "#7201a8"
             ],
             [
              0.3333333333333333,
              "#9c179e"
             ],
             [
              0.4444444444444444,
              "#bd3786"
             ],
             [
              0.5555555555555556,
              "#d8576b"
             ],
             [
              0.6666666666666666,
              "#ed7953"
             ],
             [
              0.7777777777777778,
              "#fb9f3a"
             ],
             [
              0.8888888888888888,
              "#fdca26"
             ],
             [
              1,
              "#f0f921"
             ]
            ],
            "type": "histogram2dcontour"
           }
          ],
          "mesh3d": [
           {
            "colorbar": {
             "outlinewidth": 0,
             "ticks": ""
            },
            "type": "mesh3d"
           }
          ],
          "parcoords": [
           {
            "line": {
             "colorbar": {
              "outlinewidth": 0,
              "ticks": ""
             }
            },
            "type": "parcoords"
           }
          ],
          "pie": [
           {
            "automargin": true,
            "type": "pie"
           }
          ],
          "scatter": [
           {
            "fillpattern": {
             "fillmode": "overlay",
             "size": 10,
             "solidity": 0.2
            },
            "type": "scatter"
           }
          ],
          "scatter3d": [
           {
            "line": {
             "colorbar": {
              "outlinewidth": 0,
              "ticks": ""
             }
            },
            "marker": {
             "colorbar": {
              "outlinewidth": 0,
              "ticks": ""
             }
            },
            "type": "scatter3d"
           }
          ],
          "scattercarpet": [
           {
            "marker": {
             "colorbar": {
              "outlinewidth": 0,
              "ticks": ""
             }
            },
            "type": "scattercarpet"
           }
          ],
          "scattergeo": [
           {
            "marker": {
             "colorbar": {
              "outlinewidth": 0,
              "ticks": ""
             }
            },
            "type": "scattergeo"
           }
          ],
          "scattergl": [
           {
            "marker": {
             "colorbar": {
              "outlinewidth": 0,
              "ticks": ""
             }
            },
            "type": "scattergl"
           }
          ],
          "scattermap": [
           {
            "marker": {
             "colorbar": {
              "outlinewidth": 0,
              "ticks": ""
             }
            },
            "type": "scattermap"
           }
          ],
          "scattermapbox": [
           {
            "marker": {
             "colorbar": {
              "outlinewidth": 0,
              "ticks": ""
             }
            },
            "type": "scattermapbox"
           }
          ],
          "scatterpolar": [
           {
            "marker": {
             "colorbar": {
              "outlinewidth": 0,
              "ticks": ""
             }
            },
            "type": "scatterpolar"
           }
          ],
          "scatterpolargl": [
           {
            "marker": {
             "colorbar": {
              "outlinewidth": 0,
              "ticks": ""
             }
            },
            "type": "scatterpolargl"
           }
          ],
          "scatterternary": [
           {
            "marker": {
             "colorbar": {
              "outlinewidth": 0,
              "ticks": ""
             }
            },
            "type": "scatterternary"
           }
          ],
          "surface": [
           {
            "colorbar": {
             "outlinewidth": 0,
             "ticks": ""
            },
            "colorscale": [
             [
              0,
              "#0d0887"
             ],
             [
              0.1111111111111111,
              "#46039f"
             ],
             [
              0.2222222222222222,
              "#7201a8"
             ],
             [
              0.3333333333333333,
              "#9c179e"
             ],
             [
              0.4444444444444444,
              "#bd3786"
             ],
             [
              0.5555555555555556,
              "#d8576b"
             ],
             [
              0.6666666666666666,
              "#ed7953"
             ],
             [
              0.7777777777777778,
              "#fb9f3a"
             ],
             [
              0.8888888888888888,
              "#fdca26"
             ],
             [
              1,
              "#f0f921"
             ]
            ],
            "type": "surface"
           }
          ],
          "table": [
           {
            "cells": {
             "fill": {
              "color": "#EBF0F8"
             },
             "line": {
              "color": "white"
             }
            },
            "header": {
             "fill": {
              "color": "#C8D4E3"
             },
             "line": {
              "color": "white"
             }
            },
            "type": "table"
           }
          ]
         },
         "layout": {
          "annotationdefaults": {
           "arrowcolor": "#2a3f5f",
           "arrowhead": 0,
           "arrowwidth": 1
          },
          "autotypenumbers": "strict",
          "coloraxis": {
           "colorbar": {
            "outlinewidth": 0,
            "ticks": ""
           }
          },
          "colorscale": {
           "diverging": [
            [
             0,
             "#8e0152"
            ],
            [
             0.1,
             "#c51b7d"
            ],
            [
             0.2,
             "#de77ae"
            ],
            [
             0.3,
             "#f1b6da"
            ],
            [
             0.4,
             "#fde0ef"
            ],
            [
             0.5,
             "#f7f7f7"
            ],
            [
             0.6,
             "#e6f5d0"
            ],
            [
             0.7,
             "#b8e186"
            ],
            [
             0.8,
             "#7fbc41"
            ],
            [
             0.9,
             "#4d9221"
            ],
            [
             1,
             "#276419"
            ]
           ],
           "sequential": [
            [
             0,
             "#0d0887"
            ],
            [
             0.1111111111111111,
             "#46039f"
            ],
            [
             0.2222222222222222,
             "#7201a8"
            ],
            [
             0.3333333333333333,
             "#9c179e"
            ],
            [
             0.4444444444444444,
             "#bd3786"
            ],
            [
             0.5555555555555556,
             "#d8576b"
            ],
            [
             0.6666666666666666,
             "#ed7953"
            ],
            [
             0.7777777777777778,
             "#fb9f3a"
            ],
            [
             0.8888888888888888,
             "#fdca26"
            ],
            [
             1,
             "#f0f921"
            ]
           ],
           "sequentialminus": [
            [
             0,
             "#0d0887"
            ],
            [
             0.1111111111111111,
             "#46039f"
            ],
            [
             0.2222222222222222,
             "#7201a8"
            ],
            [
             0.3333333333333333,
             "#9c179e"
            ],
            [
             0.4444444444444444,
             "#bd3786"
            ],
            [
             0.5555555555555556,
             "#d8576b"
            ],
            [
             0.6666666666666666,
             "#ed7953"
            ],
            [
             0.7777777777777778,
             "#fb9f3a"
            ],
            [
             0.8888888888888888,
             "#fdca26"
            ],
            [
             1,
             "#f0f921"
            ]
           ]
          },
          "colorway": [
           "#636efa",
           "#EF553B",
           "#00cc96",
           "#ab63fa",
           "#FFA15A",
           "#19d3f3",
           "#FF6692",
           "#B6E880",
           "#FF97FF",
           "#FECB52"
          ],
          "font": {
           "color": "#2a3f5f"
          },
          "geo": {
           "bgcolor": "white",
           "lakecolor": "white",
           "landcolor": "white",
           "showlakes": true,
           "showland": true,
           "subunitcolor": "#C8D4E3"
          },
          "hoverlabel": {
           "align": "left"
          },
          "hovermode": "closest",
          "mapbox": {
           "style": "light"
          },
          "paper_bgcolor": "white",
          "plot_bgcolor": "white",
          "polar": {
           "angularaxis": {
            "gridcolor": "#EBF0F8",
            "linecolor": "#EBF0F8",
            "ticks": ""
           },
           "bgcolor": "white",
           "radialaxis": {
            "gridcolor": "#EBF0F8",
            "linecolor": "#EBF0F8",
            "ticks": ""
           }
          },
          "scene": {
           "xaxis": {
            "backgroundcolor": "white",
            "gridcolor": "#DFE8F3",
            "gridwidth": 2,
            "linecolor": "#EBF0F8",
            "showbackground": true,
            "ticks": "",
            "zerolinecolor": "#EBF0F8"
           },
           "yaxis": {
            "backgroundcolor": "white",
            "gridcolor": "#DFE8F3",
            "gridwidth": 2,
            "linecolor": "#EBF0F8",
            "showbackground": true,
            "ticks": "",
            "zerolinecolor": "#EBF0F8"
           },
           "zaxis": {
            "backgroundcolor": "white",
            "gridcolor": "#DFE8F3",
            "gridwidth": 2,
            "linecolor": "#EBF0F8",
            "showbackground": true,
            "ticks": "",
            "zerolinecolor": "#EBF0F8"
           }
          },
          "shapedefaults": {
           "line": {
            "color": "#2a3f5f"
           }
          },
          "ternary": {
           "aaxis": {
            "gridcolor": "#DFE8F3",
            "linecolor": "#A2B1C6",
            "ticks": ""
           },
           "baxis": {
            "gridcolor": "#DFE8F3",
            "linecolor": "#A2B1C6",
            "ticks": ""
           },
           "bgcolor": "white",
           "caxis": {
            "gridcolor": "#DFE8F3",
            "linecolor": "#A2B1C6",
            "ticks": ""
           }
          },
          "title": {
           "x": 0.05
          },
          "xaxis": {
           "automargin": true,
           "gridcolor": "#EBF0F8",
           "linecolor": "#EBF0F8",
           "ticks": "",
           "title": {
            "standoff": 15
           },
           "zerolinecolor": "#EBF0F8",
           "zerolinewidth": 2
          },
          "yaxis": {
           "automargin": true,
           "gridcolor": "#EBF0F8",
           "linecolor": "#EBF0F8",
           "ticks": "",
           "title": {
            "standoff": 15
           },
           "zerolinecolor": "#EBF0F8",
           "zerolinewidth": 2
          }
         }
        },
        "title": {
         "text": "Monthly Revenue Trend (2023)"
        },
        "xaxis": {
         "title": {
          "text": "Month"
         }
        },
        "yaxis": {
         "title": {
          "text": "Revenue ($)"
         }
        }
       }
      }
     },
     "metadata": {},
     "output_type": "display_data"
    },
    {
     "name": "stdout",
     "output_type": "stream",
     "text": [
      "\n",
      "KEY INSIGHTS:\n",
      "- Best performing month: Month 9 with $303,793\n",
      "- Worst performing month: Month 4 with $253,795\n",
      "- Revenue volatility (std dev): $17,285\n"
     ]
    }
   ],
   "source": [
    "# Create revenue trend visualization\n",
    "title_suffix = f\"({TARGET_YEAR})\"\n",
    "revenue_plot = metrics.plot_revenue_trend(monthly_trends, title_suffix)\n",
    "revenue_plot.show()\n",
    "\n",
    "# Additional insights\n",
    "print(f\"\\nKEY INSIGHTS:\")\n",
    "print(f\"- Best performing month: Month {monthly_trends.loc[monthly_trends['revenue'].idxmax(), 'month']} with ${monthly_trends['revenue'].max():,.0f}\")\n",
    "print(f\"- Worst performing month: Month {monthly_trends.loc[monthly_trends['revenue'].idxmin(), 'month']} with ${monthly_trends['revenue'].min():,.0f}\")\n",
    "print(f\"- Revenue volatility (std dev): ${monthly_trends['revenue'].std():,.0f}\")"
   ]
  },
  {
   "cell_type": "markdown",
   "id": "product-analysis",
   "metadata": {},
   "source": [
    "## Product Category Analysis\n",
    "\n",
    "Analysis of product category performance, revenue contribution, and market share."
   ]
  },
  {
   "cell_type": "code",
   "execution_count": 58,
   "id": "product-metrics",
   "metadata": {},
   "outputs": [
    {
     "name": "stdout",
     "output_type": "stream",
     "text": [
      "PRODUCT CATEGORY PERFORMANCE (2023)\n",
      "============================================================\n",
      " product_category_name  total_revenue  avg_price  total_items  unique_orders  revenue_share  items_per_order\n",
      "           electronics     1401359.21    1056.04         1327           1227          41.70             1.08\n",
      "           home_garden      862653.27     750.79         1149           1045          25.67             1.10\n",
      "       sports_outdoors      278845.32     406.48          686            645           8.30             1.06\n",
      "            automotive      247707.10     506.56          489            473           7.37             1.03\n",
      "clothing_shoes_jewelry      232745.04     263.29          884            828           6.93             1.07\n",
      "            toys_games       70163.64     147.40          476            461           2.09             1.03\n",
      "  health_personal_care       65370.27     103.76          630            613           1.95             1.03\n",
      "tools_home_improvement       54280.33     247.86          219            213           1.62             1.03\n",
      "  beauty_personal_care       49213.30     156.23          315            309           1.46             1.02\n",
      "           books_media       38559.08      53.18          725            687           1.15             1.06\n",
      "  grocery_gourmet_food       26964.36      76.39          353            346           0.80             1.02\n",
      "         baby_products       25302.54     196.14          129            128           0.75             1.01\n",
      "          pet_supplies        7131.28     108.05           66             66           0.21             1.00\n",
      "\n",
      "TOP 3 REVENUE GENERATING CATEGORIES:\n",
      "1. electronics: $1,401,359 (41.7% of total)\n",
      "1. home_garden: $862,653 (25.7% of total)\n",
      "1. sports_outdoors: $278,845 (8.3% of total)\n"
     ]
    }
   ],
   "source": [
    "# Calculate product category performance\n",
    "category_performance = metrics.calculate_product_performance(sales_with_categories)\n",
    "\n",
    "print(f\"PRODUCT CATEGORY PERFORMANCE ({TARGET_YEAR})\")\n",
    "print(\"=\" * 60)\n",
    "print(category_performance.to_string(index=False))\n",
    "\n",
    "# Top performing categories\n",
    "top_3_categories = category_performance.head(3)\n",
    "print(f\"\\nTOP 3 REVENUE GENERATING CATEGORIES:\")\n",
    "for idx, row in top_3_categories.iterrows():\n",
    "    print(f\"1. {row['product_category_name']}: ${row['total_revenue']:,.0f} ({row['revenue_share']:.1f}% of total)\")"
   ]
  },
  {
   "cell_type": "code",
   "execution_count": 59,
   "id": "product-visualization",
   "metadata": {},
   "outputs": [
    {
     "data": {
      "application/vnd.plotly.v1+json": {
       "config": {
        "plotlyServerURL": "https://plot.ly"
       },
       "data": [
        {
         "marker": {
          "color": "#1f77b4"
         },
         "text": [
          "41.7%",
          "25.67%",
          "8.3%",
          "7.37%",
          "6.93%",
          "2.09%",
          "1.95%",
          "1.62%",
          "1.46%",
          "1.15%",
          "0.8%",
          "0.75%",
          "0.21%"
         ],
         "textposition": "auto",
         "type": "bar",
         "x": [
          "electronics",
          "home_garden",
          "sports_outdoors",
          "automotive",
          "clothing_shoes_jewelry",
          "toys_games",
          "health_personal_care",
          "tools_home_improvement",
          "beauty_personal_care",
          "books_media",
          "grocery_gourmet_food",
          "baby_products",
          "pet_supplies"
         ],
         "y": {
          "bdata": "XI/CNQ9iNUGkcD2KelMqQXsUrkf1BBFBzczMzNg8DkEfhetRSGkMQdejcD06IfFAPQrXo0jr70D2KFyPCoHqQJqZmZmpB+hA9ihcj+LT4kCkcD0KF1XaQPYoXI+itdhA4XoUrkfbu0A=",
          "dtype": "f8"
         }
        }
       ],
       "layout": {
        "template": {
         "data": {
          "bar": [
           {
            "error_x": {
             "color": "#2a3f5f"
            },
            "error_y": {
             "color": "#2a3f5f"
            },
            "marker": {
             "line": {
              "color": "white",
              "width": 0.5
             },
             "pattern": {
              "fillmode": "overlay",
              "size": 10,
              "solidity": 0.2
             }
            },
            "type": "bar"
           }
          ],
          "barpolar": [
           {
            "marker": {
             "line": {
              "color": "white",
              "width": 0.5
             },
             "pattern": {
              "fillmode": "overlay",
              "size": 10,
              "solidity": 0.2
             }
            },
            "type": "barpolar"
           }
          ],
          "carpet": [
           {
            "aaxis": {
             "endlinecolor": "#2a3f5f",
             "gridcolor": "#C8D4E3",
             "linecolor": "#C8D4E3",
             "minorgridcolor": "#C8D4E3",
             "startlinecolor": "#2a3f5f"
            },
            "baxis": {
             "endlinecolor": "#2a3f5f",
             "gridcolor": "#C8D4E3",
             "linecolor": "#C8D4E3",
             "minorgridcolor": "#C8D4E3",
             "startlinecolor": "#2a3f5f"
            },
            "type": "carpet"
           }
          ],
          "choropleth": [
           {
            "colorbar": {
             "outlinewidth": 0,
             "ticks": ""
            },
            "type": "choropleth"
           }
          ],
          "contour": [
           {
            "colorbar": {
             "outlinewidth": 0,
             "ticks": ""
            },
            "colorscale": [
             [
              0,
              "#0d0887"
             ],
             [
              0.1111111111111111,
              "#46039f"
             ],
             [
              0.2222222222222222,
              "#7201a8"
             ],
             [
              0.3333333333333333,
              "#9c179e"
             ],
             [
              0.4444444444444444,
              "#bd3786"
             ],
             [
              0.5555555555555556,
              "#d8576b"
             ],
             [
              0.6666666666666666,
              "#ed7953"
             ],
             [
              0.7777777777777778,
              "#fb9f3a"
             ],
             [
              0.8888888888888888,
              "#fdca26"
             ],
             [
              1,
              "#f0f921"
             ]
            ],
            "type": "contour"
           }
          ],
          "contourcarpet": [
           {
            "colorbar": {
             "outlinewidth": 0,
             "ticks": ""
            },
            "type": "contourcarpet"
           }
          ],
          "heatmap": [
           {
            "colorbar": {
             "outlinewidth": 0,
             "ticks": ""
            },
            "colorscale": [
             [
              0,
              "#0d0887"
             ],
             [
              0.1111111111111111,
              "#46039f"
             ],
             [
              0.2222222222222222,
              "#7201a8"
             ],
             [
              0.3333333333333333,
              "#9c179e"
             ],
             [
              0.4444444444444444,
              "#bd3786"
             ],
             [
              0.5555555555555556,
              "#d8576b"
             ],
             [
              0.6666666666666666,
              "#ed7953"
             ],
             [
              0.7777777777777778,
              "#fb9f3a"
             ],
             [
              0.8888888888888888,
              "#fdca26"
             ],
             [
              1,
              "#f0f921"
             ]
            ],
            "type": "heatmap"
           }
          ],
          "histogram": [
           {
            "marker": {
             "pattern": {
              "fillmode": "overlay",
              "size": 10,
              "solidity": 0.2
             }
            },
            "type": "histogram"
           }
          ],
          "histogram2d": [
           {
            "colorbar": {
             "outlinewidth": 0,
             "ticks": ""
            },
            "colorscale": [
             [
              0,
              "#0d0887"
             ],
             [
              0.1111111111111111,
              "#46039f"
             ],
             [
              0.2222222222222222,
              "#7201a8"
             ],
             [
              0.3333333333333333,
              "#9c179e"
             ],
             [
              0.4444444444444444,
              "#bd3786"
             ],
             [
              0.5555555555555556,
              "#d8576b"
             ],
             [
              0.6666666666666666,
              "#ed7953"
             ],
             [
              0.7777777777777778,
              "#fb9f3a"
             ],
             [
              0.8888888888888888,
              "#fdca26"
             ],
             [
              1,
              "#f0f921"
             ]
            ],
            "type": "histogram2d"
           }
          ],
          "histogram2dcontour": [
           {
            "colorbar": {
             "outlinewidth": 0,
             "ticks": ""
            },
            "colorscale": [
             [
              0,
              "#0d0887"
             ],
             [
              0.1111111111111111,
              "#46039f"
             ],
             [
              0.2222222222222222,
              "#7201a8"
             ],
             [
              0.3333333333333333,
              "#9c179e"
             ],
             [
              0.4444444444444444,
              "#bd3786"
             ],
             [
              0.5555555555555556,
              "#d8576b"
             ],
             [
              0.6666666666666666,
              "#ed7953"
             ],
             [
              0.7777777777777778,
              "#fb9f3a"
             ],
             [
              0.8888888888888888,
              "#fdca26"
             ],
             [
              1,
              "#f0f921"
             ]
            ],
            "type": "histogram2dcontour"
           }
          ],
          "mesh3d": [
           {
            "colorbar": {
             "outlinewidth": 0,
             "ticks": ""
            },
            "type": "mesh3d"
           }
          ],
          "parcoords": [
           {
            "line": {
             "colorbar": {
              "outlinewidth": 0,
              "ticks": ""
             }
            },
            "type": "parcoords"
           }
          ],
          "pie": [
           {
            "automargin": true,
            "type": "pie"
           }
          ],
          "scatter": [
           {
            "fillpattern": {
             "fillmode": "overlay",
             "size": 10,
             "solidity": 0.2
            },
            "type": "scatter"
           }
          ],
          "scatter3d": [
           {
            "line": {
             "colorbar": {
              "outlinewidth": 0,
              "ticks": ""
             }
            },
            "marker": {
             "colorbar": {
              "outlinewidth": 0,
              "ticks": ""
             }
            },
            "type": "scatter3d"
           }
          ],
          "scattercarpet": [
           {
            "marker": {
             "colorbar": {
              "outlinewidth": 0,
              "ticks": ""
             }
            },
            "type": "scattercarpet"
           }
          ],
          "scattergeo": [
           {
            "marker": {
             "colorbar": {
              "outlinewidth": 0,
              "ticks": ""
             }
            },
            "type": "scattergeo"
           }
          ],
          "scattergl": [
           {
            "marker": {
             "colorbar": {
              "outlinewidth": 0,
              "ticks": ""
             }
            },
            "type": "scattergl"
           }
          ],
          "scattermap": [
           {
            "marker": {
             "colorbar": {
              "outlinewidth": 0,
              "ticks": ""
             }
            },
            "type": "scattermap"
           }
          ],
          "scattermapbox": [
           {
            "marker": {
             "colorbar": {
              "outlinewidth": 0,
              "ticks": ""
             }
            },
            "type": "scattermapbox"
           }
          ],
          "scatterpolar": [
           {
            "marker": {
             "colorbar": {
              "outlinewidth": 0,
              "ticks": ""
             }
            },
            "type": "scatterpolar"
           }
          ],
          "scatterpolargl": [
           {
            "marker": {
             "colorbar": {
              "outlinewidth": 0,
              "ticks": ""
             }
            },
            "type": "scatterpolargl"
           }
          ],
          "scatterternary": [
           {
            "marker": {
             "colorbar": {
              "outlinewidth": 0,
              "ticks": ""
             }
            },
            "type": "scatterternary"
           }
          ],
          "surface": [
           {
            "colorbar": {
             "outlinewidth": 0,
             "ticks": ""
            },
            "colorscale": [
             [
              0,
              "#0d0887"
             ],
             [
              0.1111111111111111,
              "#46039f"
             ],
             [
              0.2222222222222222,
              "#7201a8"
             ],
             [
              0.3333333333333333,
              "#9c179e"
             ],
             [
              0.4444444444444444,
              "#bd3786"
             ],
             [
              0.5555555555555556,
              "#d8576b"
             ],
             [
              0.6666666666666666,
              "#ed7953"
             ],
             [
              0.7777777777777778,
              "#fb9f3a"
             ],
             [
              0.8888888888888888,
              "#fdca26"
             ],
             [
              1,
              "#f0f921"
             ]
            ],
            "type": "surface"
           }
          ],
          "table": [
           {
            "cells": {
             "fill": {
              "color": "#EBF0F8"
             },
             "line": {
              "color": "white"
             }
            },
            "header": {
             "fill": {
              "color": "#C8D4E3"
             },
             "line": {
              "color": "white"
             }
            },
            "type": "table"
           }
          ]
         },
         "layout": {
          "annotationdefaults": {
           "arrowcolor": "#2a3f5f",
           "arrowhead": 0,
           "arrowwidth": 1
          },
          "autotypenumbers": "strict",
          "coloraxis": {
           "colorbar": {
            "outlinewidth": 0,
            "ticks": ""
           }
          },
          "colorscale": {
           "diverging": [
            [
             0,
             "#8e0152"
            ],
            [
             0.1,
             "#c51b7d"
            ],
            [
             0.2,
             "#de77ae"
            ],
            [
             0.3,
             "#f1b6da"
            ],
            [
             0.4,
             "#fde0ef"
            ],
            [
             0.5,
             "#f7f7f7"
            ],
            [
             0.6,
             "#e6f5d0"
            ],
            [
             0.7,
             "#b8e186"
            ],
            [
             0.8,
             "#7fbc41"
            ],
            [
             0.9,
             "#4d9221"
            ],
            [
             1,
             "#276419"
            ]
           ],
           "sequential": [
            [
             0,
             "#0d0887"
            ],
            [
             0.1111111111111111,
             "#46039f"
            ],
            [
             0.2222222222222222,
             "#7201a8"
            ],
            [
             0.3333333333333333,
             "#9c179e"
            ],
            [
             0.4444444444444444,
             "#bd3786"
            ],
            [
             0.5555555555555556,
             "#d8576b"
            ],
            [
             0.6666666666666666,
             "#ed7953"
            ],
            [
             0.7777777777777778,
             "#fb9f3a"
            ],
            [
             0.8888888888888888,
             "#fdca26"
            ],
            [
             1,
             "#f0f921"
            ]
           ],
           "sequentialminus": [
            [
             0,
             "#0d0887"
            ],
            [
             0.1111111111111111,
             "#46039f"
            ],
            [
             0.2222222222222222,
             "#7201a8"
            ],
            [
             0.3333333333333333,
             "#9c179e"
            ],
            [
             0.4444444444444444,
             "#bd3786"
            ],
            [
             0.5555555555555556,
             "#d8576b"
            ],
            [
             0.6666666666666666,
             "#ed7953"
            ],
            [
             0.7777777777777778,
             "#fb9f3a"
            ],
            [
             0.8888888888888888,
             "#fdca26"
            ],
            [
             1,
             "#f0f921"
            ]
           ]
          },
          "colorway": [
           "#636efa",
           "#EF553B",
           "#00cc96",
           "#ab63fa",
           "#FFA15A",
           "#19d3f3",
           "#FF6692",
           "#B6E880",
           "#FF97FF",
           "#FECB52"
          ],
          "font": {
           "color": "#2a3f5f"
          },
          "geo": {
           "bgcolor": "white",
           "lakecolor": "white",
           "landcolor": "white",
           "showlakes": true,
           "showland": true,
           "subunitcolor": "#C8D4E3"
          },
          "hoverlabel": {
           "align": "left"
          },
          "hovermode": "closest",
          "mapbox": {
           "style": "light"
          },
          "paper_bgcolor": "white",
          "plot_bgcolor": "white",
          "polar": {
           "angularaxis": {
            "gridcolor": "#EBF0F8",
            "linecolor": "#EBF0F8",
            "ticks": ""
           },
           "bgcolor": "white",
           "radialaxis": {
            "gridcolor": "#EBF0F8",
            "linecolor": "#EBF0F8",
            "ticks": ""
           }
          },
          "scene": {
           "xaxis": {
            "backgroundcolor": "white",
            "gridcolor": "#DFE8F3",
            "gridwidth": 2,
            "linecolor": "#EBF0F8",
            "showbackground": true,
            "ticks": "",
            "zerolinecolor": "#EBF0F8"
           },
           "yaxis": {
            "backgroundcolor": "white",
            "gridcolor": "#DFE8F3",
            "gridwidth": 2,
            "linecolor": "#EBF0F8",
            "showbackground": true,
            "ticks": "",
            "zerolinecolor": "#EBF0F8"
           },
           "zaxis": {
            "backgroundcolor": "white",
            "gridcolor": "#DFE8F3",
            "gridwidth": 2,
            "linecolor": "#EBF0F8",
            "showbackground": true,
            "ticks": "",
            "zerolinecolor": "#EBF0F8"
           }
          },
          "shapedefaults": {
           "line": {
            "color": "#2a3f5f"
           }
          },
          "ternary": {
           "aaxis": {
            "gridcolor": "#DFE8F3",
            "linecolor": "#A2B1C6",
            "ticks": ""
           },
           "baxis": {
            "gridcolor": "#DFE8F3",
            "linecolor": "#A2B1C6",
            "ticks": ""
           },
           "bgcolor": "white",
           "caxis": {
            "gridcolor": "#DFE8F3",
            "linecolor": "#A2B1C6",
            "ticks": ""
           }
          },
          "title": {
           "x": 0.05
          },
          "xaxis": {
           "automargin": true,
           "gridcolor": "#EBF0F8",
           "linecolor": "#EBF0F8",
           "ticks": "",
           "title": {
            "standoff": 15
           },
           "zerolinecolor": "#EBF0F8",
           "zerolinewidth": 2
          },
          "yaxis": {
           "automargin": true,
           "gridcolor": "#EBF0F8",
           "linecolor": "#EBF0F8",
           "ticks": "",
           "title": {
            "standoff": 15
           },
           "zerolinecolor": "#EBF0F8",
           "zerolinewidth": 2
          }
         }
        },
        "title": {
         "text": "Revenue by Product Category (2023)"
        },
        "xaxis": {
         "tickangle": -45,
         "title": {
          "text": "Product Category"
         }
        },
        "yaxis": {
         "title": {
          "text": "Total Revenue ($)"
         }
        }
       }
      }
     },
     "metadata": {},
     "output_type": "display_data"
    },
    {
     "name": "stdout",
     "output_type": "stream",
     "text": [
      "\n",
      "CATEGORY INSIGHTS:\n",
      "- Total product categories: 13\n",
      "- Top 3 categories represent 75.7% of total revenue\n",
      "- Most expensive category (avg price): electronics ($1056.04)\n",
      "- Highest volume category: electronics (1,327 items)\n"
     ]
    }
   ],
   "source": [
    "# Create category performance visualization\n",
    "title_suffix = f\"({TARGET_YEAR})\"\n",
    "category_plot = metrics.plot_category_performance(category_performance, title_suffix)\n",
    "category_plot.show()\n",
    "\n",
    "# Category insights\n",
    "total_categories = len(category_performance)\n",
    "top_3_share = top_3_categories['revenue_share'].sum()\n",
    "\n",
    "print(f\"\\nCATEGORY INSIGHTS:\")\n",
    "print(f\"- Total product categories: {total_categories}\")\n",
    "print(f\"- Top 3 categories represent {top_3_share:.1f}% of total revenue\")\n",
    "print(f\"- Most expensive category (avg price): {category_performance.loc[category_performance['avg_price'].idxmax(), 'product_category_name']} (${category_performance['avg_price'].max():.2f})\")\n",
    "print(f\"- Highest volume category: {category_performance.loc[category_performance['total_items'].idxmax(), 'product_category_name']} ({category_performance['total_items'].max():,} items)\")"
   ]
  },
  {
   "cell_type": "markdown",
   "id": "geographic-analysis",
   "metadata": {},
   "source": [
    "## Geographic Performance Analysis\n",
    "\n",
    "Regional sales performance and market penetration analysis."
   ]
  },
  {
   "cell_type": "code",
   "execution_count": 60,
   "id": "geographic-metrics",
   "metadata": {},
   "outputs": [
    {
     "name": "stdout",
     "output_type": "stream",
     "text": [
      "GEOGRAPHIC PERFORMANCE BY STATE (2023)\n",
      "============================================================\n",
      "state  total_revenue  total_orders  unique_customers  revenue_per_customer  orders_per_customer  revenue_share\n",
      "   CA      537880.74           769               582                924.19                 1.32          16.01\n",
      "   TX      403303.49           561               438                920.78                 1.28          12.00\n",
      "   FL      310195.84           431               332                934.32                 1.30           9.23\n",
      "   NY      253111.85           384               286                885.01                 1.34           7.53\n",
      "   IL      185930.89           260               190                978.58                 1.37           5.53\n",
      "   PA      173260.68           225               172               1007.33                 1.31           5.16\n",
      "   OH      157619.72           200               151               1043.84                 1.32           4.69\n",
      "   GA      146414.65           190               145               1009.76                 1.31           4.36\n",
      "   MI      132325.60           210               164                806.86                 1.28           3.94\n",
      "   NC      128314.74           177               135                950.48                 1.31           3.82\n",
      "\n",
      "TOP 5 STATES BY REVENUE:\n",
      "2. CA: $537,881 (16.0% of total)\n",
      "17. TX: $403,303 (12.0% of total)\n",
      "3. FL: $310,196 (9.2% of total)\n",
      "13. NY: $253,112 (7.5% of total)\n",
      "5. IL: $185,931 (5.5% of total)\n"
     ]
    }
   ],
   "source": [
    "# Calculate geographic performance\n",
    "geographic_performance = metrics.calculate_geographic_performance(sales_with_states)\n",
    "\n",
    "print(f\"GEOGRAPHIC PERFORMANCE BY STATE ({TARGET_YEAR})\")\n",
    "print(\"=\" * 60)\n",
    "print(geographic_performance.head(10).to_string(index=False))\n",
    "\n",
    "# Top performing states\n",
    "top_5_states = geographic_performance.head(5)\n",
    "print(f\"\\nTOP 5 STATES BY REVENUE:\")\n",
    "for idx, row in top_5_states.iterrows():\n",
    "    print(f\"{idx+1}. {row['state']}: ${row['total_revenue']:,.0f} ({row['revenue_share']:.1f}% of total)\")"
   ]
  },
  {
   "cell_type": "code",
   "execution_count": 61,
   "id": "geographic-visualization",
   "metadata": {},
   "outputs": [
    {
     "data": {
      "application/vnd.plotly.v1+json": {
       "config": {
        "plotlyServerURL": "https://plot.ly"
       },
       "data": [
        {
         "coloraxis": "coloraxis",
         "geo": "geo",
         "hovertemplate": "state=%{location}<br>Total Revenue ($)=%{z}<extra></extra>",
         "locationmode": "USA-states",
         "locations": [
          "CA",
          "TX",
          "FL",
          "NY",
          "IL",
          "PA",
          "OH",
          "GA",
          "MI",
          "NC",
          "NJ",
          "VA",
          "MA",
          "AZ",
          "WA",
          "MD",
          "IN",
          "MO",
          "WI",
          "TN"
         ],
         "name": "",
         "type": "choropleth",
         "z": {
          "bdata": "rkfhejFqIEFcj8L1nZ0YQcP1KFzP7hJBzczMzL7lDkHrUbgeV7IGQQrXo3BlJgVBKVyPwp09A0EzMzMzdd8BQc3MzMwsJwBBcT0K16tT/0Bcj8L12Bz/QHE9CtePsflASOF6FHIs+UBmZmZm0nD4QIXrUbiqOfdAFa5H4TYp9UAUrkfh2hD1QDMzMzOzr/JA9ihcjx6E8kDsUbgezXLyQA==",
          "dtype": "f8"
         }
        }
       ],
       "layout": {
        "coloraxis": {
         "colorbar": {
          "title": {
           "text": "Total Revenue ($)"
          }
         },
         "colorscale": [
          [
           0,
           "rgb(255,245,240)"
          ],
          [
           0.125,
           "rgb(254,224,210)"
          ],
          [
           0.25,
           "rgb(252,187,161)"
          ],
          [
           0.375,
           "rgb(252,146,114)"
          ],
          [
           0.5,
           "rgb(251,106,74)"
          ],
          [
           0.625,
           "rgb(239,59,44)"
          ],
          [
           0.75,
           "rgb(203,24,29)"
          ],
          [
           0.875,
           "rgb(165,15,21)"
          ],
          [
           1,
           "rgb(103,0,13)"
          ]
         ]
        },
        "geo": {
         "center": {},
         "domain": {
          "x": [
           0,
           1
          ],
          "y": [
           0,
           1
          ]
         },
         "scope": "usa"
        },
        "legend": {
         "tracegroupgap": 0
        },
        "template": {
         "data": {
          "bar": [
           {
            "error_x": {
             "color": "#2a3f5f"
            },
            "error_y": {
             "color": "#2a3f5f"
            },
            "marker": {
             "line": {
              "color": "white",
              "width": 0.5
             },
             "pattern": {
              "fillmode": "overlay",
              "size": 10,
              "solidity": 0.2
             }
            },
            "type": "bar"
           }
          ],
          "barpolar": [
           {
            "marker": {
             "line": {
              "color": "white",
              "width": 0.5
             },
             "pattern": {
              "fillmode": "overlay",
              "size": 10,
              "solidity": 0.2
             }
            },
            "type": "barpolar"
           }
          ],
          "carpet": [
           {
            "aaxis": {
             "endlinecolor": "#2a3f5f",
             "gridcolor": "#C8D4E3",
             "linecolor": "#C8D4E3",
             "minorgridcolor": "#C8D4E3",
             "startlinecolor": "#2a3f5f"
            },
            "baxis": {
             "endlinecolor": "#2a3f5f",
             "gridcolor": "#C8D4E3",
             "linecolor": "#C8D4E3",
             "minorgridcolor": "#C8D4E3",
             "startlinecolor": "#2a3f5f"
            },
            "type": "carpet"
           }
          ],
          "choropleth": [
           {
            "colorbar": {
             "outlinewidth": 0,
             "ticks": ""
            },
            "type": "choropleth"
           }
          ],
          "contour": [
           {
            "colorbar": {
             "outlinewidth": 0,
             "ticks": ""
            },
            "colorscale": [
             [
              0,
              "#0d0887"
             ],
             [
              0.1111111111111111,
              "#46039f"
             ],
             [
              0.2222222222222222,
              "#7201a8"
             ],
             [
              0.3333333333333333,
              "#9c179e"
             ],
             [
              0.4444444444444444,
              "#bd3786"
             ],
             [
              0.5555555555555556,
              "#d8576b"
             ],
             [
              0.6666666666666666,
              "#ed7953"
             ],
             [
              0.7777777777777778,
              "#fb9f3a"
             ],
             [
              0.8888888888888888,
              "#fdca26"
             ],
             [
              1,
              "#f0f921"
             ]
            ],
            "type": "contour"
           }
          ],
          "contourcarpet": [
           {
            "colorbar": {
             "outlinewidth": 0,
             "ticks": ""
            },
            "type": "contourcarpet"
           }
          ],
          "heatmap": [
           {
            "colorbar": {
             "outlinewidth": 0,
             "ticks": ""
            },
            "colorscale": [
             [
              0,
              "#0d0887"
             ],
             [
              0.1111111111111111,
              "#46039f"
             ],
             [
              0.2222222222222222,
              "#7201a8"
             ],
             [
              0.3333333333333333,
              "#9c179e"
             ],
             [
              0.4444444444444444,
              "#bd3786"
             ],
             [
              0.5555555555555556,
              "#d8576b"
             ],
             [
              0.6666666666666666,
              "#ed7953"
             ],
             [
              0.7777777777777778,
              "#fb9f3a"
             ],
             [
              0.8888888888888888,
              "#fdca26"
             ],
             [
              1,
              "#f0f921"
             ]
            ],
            "type": "heatmap"
           }
          ],
          "histogram": [
           {
            "marker": {
             "pattern": {
              "fillmode": "overlay",
              "size": 10,
              "solidity": 0.2
             }
            },
            "type": "histogram"
           }
          ],
          "histogram2d": [
           {
            "colorbar": {
             "outlinewidth": 0,
             "ticks": ""
            },
            "colorscale": [
             [
              0,
              "#0d0887"
             ],
             [
              0.1111111111111111,
              "#46039f"
             ],
             [
              0.2222222222222222,
              "#7201a8"
             ],
             [
              0.3333333333333333,
              "#9c179e"
             ],
             [
              0.4444444444444444,
              "#bd3786"
             ],
             [
              0.5555555555555556,
              "#d8576b"
             ],
             [
              0.6666666666666666,
              "#ed7953"
             ],
             [
              0.7777777777777778,
              "#fb9f3a"
             ],
             [
              0.8888888888888888,
              "#fdca26"
             ],
             [
              1,
              "#f0f921"
             ]
            ],
            "type": "histogram2d"
           }
          ],
          "histogram2dcontour": [
           {
            "colorbar": {
             "outlinewidth": 0,
             "ticks": ""
            },
            "colorscale": [
             [
              0,
              "#0d0887"
             ],
             [
              0.1111111111111111,
              "#46039f"
             ],
             [
              0.2222222222222222,
              "#7201a8"
             ],
             [
              0.3333333333333333,
              "#9c179e"
             ],
             [
              0.4444444444444444,
              "#bd3786"
             ],
             [
              0.5555555555555556,
              "#d8576b"
             ],
             [
              0.6666666666666666,
              "#ed7953"
             ],
             [
              0.7777777777777778,
              "#fb9f3a"
             ],
             [
              0.8888888888888888,
              "#fdca26"
             ],
             [
              1,
              "#f0f921"
             ]
            ],
            "type": "histogram2dcontour"
           }
          ],
          "mesh3d": [
           {
            "colorbar": {
             "outlinewidth": 0,
             "ticks": ""
            },
            "type": "mesh3d"
           }
          ],
          "parcoords": [
           {
            "line": {
             "colorbar": {
              "outlinewidth": 0,
              "ticks": ""
             }
            },
            "type": "parcoords"
           }
          ],
          "pie": [
           {
            "automargin": true,
            "type": "pie"
           }
          ],
          "scatter": [
           {
            "fillpattern": {
             "fillmode": "overlay",
             "size": 10,
             "solidity": 0.2
            },
            "type": "scatter"
           }
          ],
          "scatter3d": [
           {
            "line": {
             "colorbar": {
              "outlinewidth": 0,
              "ticks": ""
             }
            },
            "marker": {
             "colorbar": {
              "outlinewidth": 0,
              "ticks": ""
             }
            },
            "type": "scatter3d"
           }
          ],
          "scattercarpet": [
           {
            "marker": {
             "colorbar": {
              "outlinewidth": 0,
              "ticks": ""
             }
            },
            "type": "scattercarpet"
           }
          ],
          "scattergeo": [
           {
            "marker": {
             "colorbar": {
              "outlinewidth": 0,
              "ticks": ""
             }
            },
            "type": "scattergeo"
           }
          ],
          "scattergl": [
           {
            "marker": {
             "colorbar": {
              "outlinewidth": 0,
              "ticks": ""
             }
            },
            "type": "scattergl"
           }
          ],
          "scattermap": [
           {
            "marker": {
             "colorbar": {
              "outlinewidth": 0,
              "ticks": ""
             }
            },
            "type": "scattermap"
           }
          ],
          "scattermapbox": [
           {
            "marker": {
             "colorbar": {
              "outlinewidth": 0,
              "ticks": ""
             }
            },
            "type": "scattermapbox"
           }
          ],
          "scatterpolar": [
           {
            "marker": {
             "colorbar": {
              "outlinewidth": 0,
              "ticks": ""
             }
            },
            "type": "scatterpolar"
           }
          ],
          "scatterpolargl": [
           {
            "marker": {
             "colorbar": {
              "outlinewidth": 0,
              "ticks": ""
             }
            },
            "type": "scatterpolargl"
           }
          ],
          "scatterternary": [
           {
            "marker": {
             "colorbar": {
              "outlinewidth": 0,
              "ticks": ""
             }
            },
            "type": "scatterternary"
           }
          ],
          "surface": [
           {
            "colorbar": {
             "outlinewidth": 0,
             "ticks": ""
            },
            "colorscale": [
             [
              0,
              "#0d0887"
             ],
             [
              0.1111111111111111,
              "#46039f"
             ],
             [
              0.2222222222222222,
              "#7201a8"
             ],
             [
              0.3333333333333333,
              "#9c179e"
             ],
             [
              0.4444444444444444,
              "#bd3786"
             ],
             [
              0.5555555555555556,
              "#d8576b"
             ],
             [
              0.6666666666666666,
              "#ed7953"
             ],
             [
              0.7777777777777778,
              "#fb9f3a"
             ],
             [
              0.8888888888888888,
              "#fdca26"
             ],
             [
              1,
              "#f0f921"
             ]
            ],
            "type": "surface"
           }
          ],
          "table": [
           {
            "cells": {
             "fill": {
              "color": "#EBF0F8"
             },
             "line": {
              "color": "white"
             }
            },
            "header": {
             "fill": {
              "color": "#C8D4E3"
             },
             "line": {
              "color": "white"
             }
            },
            "type": "table"
           }
          ]
         },
         "layout": {
          "annotationdefaults": {
           "arrowcolor": "#2a3f5f",
           "arrowhead": 0,
           "arrowwidth": 1
          },
          "autotypenumbers": "strict",
          "coloraxis": {
           "colorbar": {
            "outlinewidth": 0,
            "ticks": ""
           }
          },
          "colorscale": {
           "diverging": [
            [
             0,
             "#8e0152"
            ],
            [
             0.1,
             "#c51b7d"
            ],
            [
             0.2,
             "#de77ae"
            ],
            [
             0.3,
             "#f1b6da"
            ],
            [
             0.4,
             "#fde0ef"
            ],
            [
             0.5,
             "#f7f7f7"
            ],
            [
             0.6,
             "#e6f5d0"
            ],
            [
             0.7,
             "#b8e186"
            ],
            [
             0.8,
             "#7fbc41"
            ],
            [
             0.9,
             "#4d9221"
            ],
            [
             1,
             "#276419"
            ]
           ],
           "sequential": [
            [
             0,
             "#0d0887"
            ],
            [
             0.1111111111111111,
             "#46039f"
            ],
            [
             0.2222222222222222,
             "#7201a8"
            ],
            [
             0.3333333333333333,
             "#9c179e"
            ],
            [
             0.4444444444444444,
             "#bd3786"
            ],
            [
             0.5555555555555556,
             "#d8576b"
            ],
            [
             0.6666666666666666,
             "#ed7953"
            ],
            [
             0.7777777777777778,
             "#fb9f3a"
            ],
            [
             0.8888888888888888,
             "#fdca26"
            ],
            [
             1,
             "#f0f921"
            ]
           ],
           "sequentialminus": [
            [
             0,
             "#0d0887"
            ],
            [
             0.1111111111111111,
             "#46039f"
            ],
            [
             0.2222222222222222,
             "#7201a8"
            ],
            [
             0.3333333333333333,
             "#9c179e"
            ],
            [
             0.4444444444444444,
             "#bd3786"
            ],
            [
             0.5555555555555556,
             "#d8576b"
            ],
            [
             0.6666666666666666,
             "#ed7953"
            ],
            [
             0.7777777777777778,
             "#fb9f3a"
            ],
            [
             0.8888888888888888,
             "#fdca26"
            ],
            [
             1,
             "#f0f921"
            ]
           ]
          },
          "colorway": [
           "#636efa",
           "#EF553B",
           "#00cc96",
           "#ab63fa",
           "#FFA15A",
           "#19d3f3",
           "#FF6692",
           "#B6E880",
           "#FF97FF",
           "#FECB52"
          ],
          "font": {
           "color": "#2a3f5f"
          },
          "geo": {
           "bgcolor": "white",
           "lakecolor": "white",
           "landcolor": "white",
           "showlakes": true,
           "showland": true,
           "subunitcolor": "#C8D4E3"
          },
          "hoverlabel": {
           "align": "left"
          },
          "hovermode": "closest",
          "mapbox": {
           "style": "light"
          },
          "paper_bgcolor": "white",
          "plot_bgcolor": "white",
          "polar": {
           "angularaxis": {
            "gridcolor": "#EBF0F8",
            "linecolor": "#EBF0F8",
            "ticks": ""
           },
           "bgcolor": "white",
           "radialaxis": {
            "gridcolor": "#EBF0F8",
            "linecolor": "#EBF0F8",
            "ticks": ""
           }
          },
          "scene": {
           "xaxis": {
            "backgroundcolor": "white",
            "gridcolor": "#DFE8F3",
            "gridwidth": 2,
            "linecolor": "#EBF0F8",
            "showbackground": true,
            "ticks": "",
            "zerolinecolor": "#EBF0F8"
           },
           "yaxis": {
            "backgroundcolor": "white",
            "gridcolor": "#DFE8F3",
            "gridwidth": 2,
            "linecolor": "#EBF0F8",
            "showbackground": true,
            "ticks": "",
            "zerolinecolor": "#EBF0F8"
           },
           "zaxis": {
            "backgroundcolor": "white",
            "gridcolor": "#DFE8F3",
            "gridwidth": 2,
            "linecolor": "#EBF0F8",
            "showbackground": true,
            "ticks": "",
            "zerolinecolor": "#EBF0F8"
           }
          },
          "shapedefaults": {
           "line": {
            "color": "#2a3f5f"
           }
          },
          "ternary": {
           "aaxis": {
            "gridcolor": "#DFE8F3",
            "linecolor": "#A2B1C6",
            "ticks": ""
           },
           "baxis": {
            "gridcolor": "#DFE8F3",
            "linecolor": "#A2B1C6",
            "ticks": ""
           },
           "bgcolor": "white",
           "caxis": {
            "gridcolor": "#DFE8F3",
            "linecolor": "#A2B1C6",
            "ticks": ""
           }
          },
          "title": {
           "x": 0.05
          },
          "xaxis": {
           "automargin": true,
           "gridcolor": "#EBF0F8",
           "linecolor": "#EBF0F8",
           "ticks": "",
           "title": {
            "standoff": 15
           },
           "zerolinecolor": "#EBF0F8",
           "zerolinewidth": 2
          },
          "yaxis": {
           "automargin": true,
           "gridcolor": "#EBF0F8",
           "linecolor": "#EBF0F8",
           "ticks": "",
           "title": {
            "standoff": 15
           },
           "zerolinecolor": "#EBF0F8",
           "zerolinewidth": 2
          }
         }
        },
        "title": {
         "text": "Revenue Distribution by State (2023)"
        }
       }
      }
     },
     "metadata": {},
     "output_type": "display_data"
    },
    {
     "name": "stdout",
     "output_type": "stream",
     "text": [
      "\n",
      "GEOGRAPHIC INSIGHTS:\n",
      "- Active states: 20\n",
      "- Top 5 states represent 50.3% of total revenue\n",
      "- Highest revenue per customer: IN ($1078.57)\n",
      "- Most loyal customers (orders/customer): VA (1.40)\n"
     ]
    }
   ],
   "source": [
    "# Create geographic distribution map\n",
    "title_suffix = f\"({TARGET_YEAR})\"\n",
    "geo_plot = metrics.plot_geographic_distribution(geographic_performance, title_suffix)\n",
    "geo_plot.show()\n",
    "\n",
    "# Geographic insights\n",
    "total_states = len(geographic_performance)\n",
    "top_5_share = top_5_states['revenue_share'].sum()\n",
    "\n",
    "print(f\"\\nGEOGRAPHIC INSIGHTS:\")\n",
    "print(f\"- Active states: {total_states}\")\n",
    "print(f\"- Top 5 states represent {top_5_share:.1f}% of total revenue\")\n",
    "print(f\"- Highest revenue per customer: {geographic_performance.loc[geographic_performance['revenue_per_customer'].idxmax(), 'state']} (${geographic_performance['revenue_per_customer'].max():.2f})\")\n",
    "print(f\"- Most loyal customers (orders/customer): {geographic_performance.loc[geographic_performance['orders_per_customer'].idxmax(), 'state']} ({geographic_performance['orders_per_customer'].max():.2f})\")"
   ]
  },
  {
   "cell_type": "markdown",
   "id": "customer-experience",
   "metadata": {},
   "source": [
    "## Customer Experience Analysis\n",
    "\n",
    "Customer satisfaction metrics, delivery performance, and experience quality indicators."
   ]
  },
  {
   "cell_type": "code",
   "execution_count": 62,
   "id": "satisfaction-metrics",
   "metadata": {},
   "outputs": [
    {
     "name": "stdout",
     "output_type": "stream",
     "text": [
      "CUSTOMER SATISFACTION METRICS (2023)\n",
      "==================================================\n",
      "Average Rating: 4.10/5.0\n",
      "Total Reviews: 3,225\n",
      "Satisfaction Rate (4+ stars): 74.2%\n",
      "Net Promoter Score: 24.1\n",
      "\n",
      "RATING DISTRIBUTION:\n",
      "1 stars: 112 reviews (3.5%)\n",
      "2 stars: 224 reviews (6.9%)\n",
      "3 stars: 496 reviews (15.4%)\n",
      "4 stars: 784 reviews (24.3%)\n",
      "5 stars: 1,609 reviews (49.9%)\n"
     ]
    }
   ],
   "source": [
    "# Calculate customer satisfaction metrics\n",
    "satisfaction_metrics = metrics.calculate_customer_satisfaction(sales_with_reviews)\n",
    "\n",
    "print(f\"CUSTOMER SATISFACTION METRICS ({TARGET_YEAR})\")\n",
    "print(\"=\" * 50)\n",
    "print(f\"Average Rating: {satisfaction_metrics['average_rating']:.2f}/5.0\")\n",
    "print(f\"Total Reviews: {satisfaction_metrics['total_reviews']:,}\")\n",
    "print(f\"Satisfaction Rate (4+ stars): {satisfaction_metrics['satisfaction_rate']:.1f}%\")\n",
    "print(f\"Net Promoter Score: {satisfaction_metrics['nps_score']:.1f}\")\n",
    "\n",
    "print(f\"\\nRATING DISTRIBUTION:\")\n",
    "rating_dist = satisfaction_metrics['rating_distribution']\n",
    "for score in sorted(rating_dist.index):\n",
    "    percentage = (rating_dist[score] / rating_dist.sum()) * 100\n",
    "    print(f\"{score} stars: {rating_dist[score]:,} reviews ({percentage:.1f}%)\")"
   ]
  },
  {
   "cell_type": "code",
   "execution_count": 63,
   "id": "delivery-metrics",
   "metadata": {},
   "outputs": [
    {
     "name": "stdout",
     "output_type": "stream",
     "text": [
      "\n",
      "DELIVERY PERFORMANCE METRICS (2023)\n",
      "==================================================\n",
      "Average Delivery Time: 8.0 days\n",
      "Median Delivery Time: 8.0 days\n",
      "Fast Delivery Rate (≤3 days): 7.2%\n",
      "Slow Delivery Rate (>7 days): 55.6%\n",
      "\n",
      "DELIVERY TIME DISTRIBUTION:\n",
      "8+ days: 2,576 orders (55.6%)\n",
      "4-7 days: 1,727 orders (37.3%)\n",
      "1-3 days: 332 orders (7.2%)\n"
     ]
    }
   ],
   "source": [
    "# Calculate delivery performance metrics\n",
    "delivery_metrics = metrics.calculate_delivery_performance(sales_with_delivery)\n",
    "\n",
    "print(f\"\\nDELIVERY PERFORMANCE METRICS ({TARGET_YEAR})\")\n",
    "print(\"=\" * 50)\n",
    "print(f\"Average Delivery Time: {delivery_metrics['average_delivery_days']:.1f} days\")\n",
    "print(f\"Median Delivery Time: {delivery_metrics['median_delivery_days']:.1f} days\")\n",
    "print(f\"Fast Delivery Rate (≤3 days): {delivery_metrics['fast_delivery_rate']:.1f}%\")\n",
    "print(f\"Slow Delivery Rate (>7 days): {delivery_metrics['slow_delivery_rate']:.1f}%\")\n",
    "\n",
    "print(f\"\\nDELIVERY TIME DISTRIBUTION:\")\n",
    "delivery_dist = delivery_metrics['delivery_distribution']\n",
    "for category in delivery_dist.index:\n",
    "    percentage = (delivery_dist[category] / delivery_dist.sum()) * 100\n",
    "    print(f\"{category}: {delivery_dist[category]:,} orders ({percentage:.1f}%)\")"
   ]
  },
  {
   "cell_type": "code",
   "execution_count": 64,
   "id": "satisfaction-delivery-analysis",
   "metadata": {},
   "outputs": [
    {
     "name": "stdout",
     "output_type": "stream",
     "text": [
      "CUSTOMER SATISFACTION BY DELIVERY SPEED (2023)\n",
      "============================================================\n",
      "delivery_category  avg_rating  review_count  rating_std  satisfaction_rate\n",
      "         1-3 days        4.19           232        1.07              77.59\n",
      "         4-7 days        4.08          1199        1.13              73.31\n",
      "          8+ days        4.11          1794        1.10              74.36\n",
      "\n",
      "DELIVERY INSIGHTS:\n",
      "- Best rated delivery category: 1-3 days (4.194 avg rating)\n",
      "- Worst rated delivery category: 4-7 days (4.075 avg rating)\n",
      "- Rating difference between best and worst: 0.119 stars\n"
     ]
    }
   ],
   "source": [
    "# Analyze satisfaction vs delivery speed relationship\n",
    "combined_data = sales_with_delivery.merge(sales_with_reviews[['order_id', 'review_score']], on='order_id', how='inner')\n",
    "satisfaction_delivery = metrics.analyze_satisfaction_vs_delivery(combined_data)\n",
    "\n",
    "print(f\"CUSTOMER SATISFACTION BY DELIVERY SPEED ({TARGET_YEAR})\")\n",
    "print(\"=\" * 60)\n",
    "print(satisfaction_delivery.to_string(index=False))\n",
    "\n",
    "# Key insights\n",
    "best_delivery = satisfaction_delivery.loc[satisfaction_delivery['avg_rating'].idxmax()]\n",
    "worst_delivery = satisfaction_delivery.loc[satisfaction_delivery['avg_rating'].idxmin()]\n",
    "\n",
    "print(f\"\\nDELIVERY INSIGHTS:\")\n",
    "print(f\"- Best rated delivery category: {best_delivery['delivery_category']} ({best_delivery['avg_rating']:.3f} avg rating)\")\n",
    "print(f\"- Worst rated delivery category: {worst_delivery['delivery_category']} ({worst_delivery['avg_rating']:.3f} avg rating)\")\n",
    "print(f\"- Rating difference between best and worst: {best_delivery['avg_rating'] - worst_delivery['avg_rating']:.3f} stars\")"
   ]
  },
  {
   "cell_type": "code",
   "execution_count": 65,
   "id": "experience-visualizations",
   "metadata": {},
   "outputs": [
    {
     "data": {
      "application/vnd.plotly.v1+json": {
       "config": {
        "plotlyServerURL": "https://plot.ly"
       },
       "data": [
        {
         "marker": {
          "color": "#1f77b4"
         },
         "name": "Review Count",
         "type": "bar",
         "x": {
          "bdata": "AQIDBAU=",
          "dtype": "i1"
         },
         "xaxis": "x",
         "y": {
          "bdata": "cADgAPABEANJBg==",
          "dtype": "i2"
         },
         "yaxis": "y"
        }
       ],
       "layout": {
        "annotations": [
         {
          "showarrow": false,
          "text": "Avg: 4.10",
          "x": 1,
          "xanchor": "right",
          "xref": "x domain",
          "y": 4.102015503875969,
          "yanchor": "bottom",
          "yref": "y"
         }
        ],
        "shapes": [
         {
          "line": {
           "color": "#d62728",
           "dash": "dash"
          },
          "type": "line",
          "x0": 0,
          "x1": 1,
          "xref": "x domain",
          "y0": 4.102015503875969,
          "y1": 4.102015503875969,
          "yref": "y"
         }
        ],
        "template": {
         "data": {
          "bar": [
           {
            "error_x": {
             "color": "#2a3f5f"
            },
            "error_y": {
             "color": "#2a3f5f"
            },
            "marker": {
             "line": {
              "color": "white",
              "width": 0.5
             },
             "pattern": {
              "fillmode": "overlay",
              "size": 10,
              "solidity": 0.2
             }
            },
            "type": "bar"
           }
          ],
          "barpolar": [
           {
            "marker": {
             "line": {
              "color": "white",
              "width": 0.5
             },
             "pattern": {
              "fillmode": "overlay",
              "size": 10,
              "solidity": 0.2
             }
            },
            "type": "barpolar"
           }
          ],
          "carpet": [
           {
            "aaxis": {
             "endlinecolor": "#2a3f5f",
             "gridcolor": "#C8D4E3",
             "linecolor": "#C8D4E3",
             "minorgridcolor": "#C8D4E3",
             "startlinecolor": "#2a3f5f"
            },
            "baxis": {
             "endlinecolor": "#2a3f5f",
             "gridcolor": "#C8D4E3",
             "linecolor": "#C8D4E3",
             "minorgridcolor": "#C8D4E3",
             "startlinecolor": "#2a3f5f"
            },
            "type": "carpet"
           }
          ],
          "choropleth": [
           {
            "colorbar": {
             "outlinewidth": 0,
             "ticks": ""
            },
            "type": "choropleth"
           }
          ],
          "contour": [
           {
            "colorbar": {
             "outlinewidth": 0,
             "ticks": ""
            },
            "colorscale": [
             [
              0,
              "#0d0887"
             ],
             [
              0.1111111111111111,
              "#46039f"
             ],
             [
              0.2222222222222222,
              "#7201a8"
             ],
             [
              0.3333333333333333,
              "#9c179e"
             ],
             [
              0.4444444444444444,
              "#bd3786"
             ],
             [
              0.5555555555555556,
              "#d8576b"
             ],
             [
              0.6666666666666666,
              "#ed7953"
             ],
             [
              0.7777777777777778,
              "#fb9f3a"
             ],
             [
              0.8888888888888888,
              "#fdca26"
             ],
             [
              1,
              "#f0f921"
             ]
            ],
            "type": "contour"
           }
          ],
          "contourcarpet": [
           {
            "colorbar": {
             "outlinewidth": 0,
             "ticks": ""
            },
            "type": "contourcarpet"
           }
          ],
          "heatmap": [
           {
            "colorbar": {
             "outlinewidth": 0,
             "ticks": ""
            },
            "colorscale": [
             [
              0,
              "#0d0887"
             ],
             [
              0.1111111111111111,
              "#46039f"
             ],
             [
              0.2222222222222222,
              "#7201a8"
             ],
             [
              0.3333333333333333,
              "#9c179e"
             ],
             [
              0.4444444444444444,
              "#bd3786"
             ],
             [
              0.5555555555555556,
              "#d8576b"
             ],
             [
              0.6666666666666666,
              "#ed7953"
             ],
             [
              0.7777777777777778,
              "#fb9f3a"
             ],
             [
              0.8888888888888888,
              "#fdca26"
             ],
             [
              1,
              "#f0f921"
             ]
            ],
            "type": "heatmap"
           }
          ],
          "histogram": [
           {
            "marker": {
             "pattern": {
              "fillmode": "overlay",
              "size": 10,
              "solidity": 0.2
             }
            },
            "type": "histogram"
           }
          ],
          "histogram2d": [
           {
            "colorbar": {
             "outlinewidth": 0,
             "ticks": ""
            },
            "colorscale": [
             [
              0,
              "#0d0887"
             ],
             [
              0.1111111111111111,
              "#46039f"
             ],
             [
              0.2222222222222222,
              "#7201a8"
             ],
             [
              0.3333333333333333,
              "#9c179e"
             ],
             [
              0.4444444444444444,
              "#bd3786"
             ],
             [
              0.5555555555555556,
              "#d8576b"
             ],
             [
              0.6666666666666666,
              "#ed7953"
             ],
             [
              0.7777777777777778,
              "#fb9f3a"
             ],
             [
              0.8888888888888888,
              "#fdca26"
             ],
             [
              1,
              "#f0f921"
             ]
            ],
            "type": "histogram2d"
           }
          ],
          "histogram2dcontour": [
           {
            "colorbar": {
             "outlinewidth": 0,
             "ticks": ""
            },
            "colorscale": [
             [
              0,
              "#0d0887"
             ],
             [
              0.1111111111111111,
              "#46039f"
             ],
             [
              0.2222222222222222,
              "#7201a8"
             ],
             [
              0.3333333333333333,
              "#9c179e"
             ],
             [
              0.4444444444444444,
              "#bd3786"
             ],
             [
              0.5555555555555556,
              "#d8576b"
             ],
             [
              0.6666666666666666,
              "#ed7953"
             ],
             [
              0.7777777777777778,
              "#fb9f3a"
             ],
             [
              0.8888888888888888,
              "#fdca26"
             ],
             [
              1,
              "#f0f921"
             ]
            ],
            "type": "histogram2dcontour"
           }
          ],
          "mesh3d": [
           {
            "colorbar": {
             "outlinewidth": 0,
             "ticks": ""
            },
            "type": "mesh3d"
           }
          ],
          "parcoords": [
           {
            "line": {
             "colorbar": {
              "outlinewidth": 0,
              "ticks": ""
             }
            },
            "type": "parcoords"
           }
          ],
          "pie": [
           {
            "automargin": true,
            "type": "pie"
           }
          ],
          "scatter": [
           {
            "fillpattern": {
             "fillmode": "overlay",
             "size": 10,
             "solidity": 0.2
            },
            "type": "scatter"
           }
          ],
          "scatter3d": [
           {
            "line": {
             "colorbar": {
              "outlinewidth": 0,
              "ticks": ""
             }
            },
            "marker": {
             "colorbar": {
              "outlinewidth": 0,
              "ticks": ""
             }
            },
            "type": "scatter3d"
           }
          ],
          "scattercarpet": [
           {
            "marker": {
             "colorbar": {
              "outlinewidth": 0,
              "ticks": ""
             }
            },
            "type": "scattercarpet"
           }
          ],
          "scattergeo": [
           {
            "marker": {
             "colorbar": {
              "outlinewidth": 0,
              "ticks": ""
             }
            },
            "type": "scattergeo"
           }
          ],
          "scattergl": [
           {
            "marker": {
             "colorbar": {
              "outlinewidth": 0,
              "ticks": ""
             }
            },
            "type": "scattergl"
           }
          ],
          "scattermap": [
           {
            "marker": {
             "colorbar": {
              "outlinewidth": 0,
              "ticks": ""
             }
            },
            "type": "scattermap"
           }
          ],
          "scattermapbox": [
           {
            "marker": {
             "colorbar": {
              "outlinewidth": 0,
              "ticks": ""
             }
            },
            "type": "scattermapbox"
           }
          ],
          "scatterpolar": [
           {
            "marker": {
             "colorbar": {
              "outlinewidth": 0,
              "ticks": ""
             }
            },
            "type": "scatterpolar"
           }
          ],
          "scatterpolargl": [
           {
            "marker": {
             "colorbar": {
              "outlinewidth": 0,
              "ticks": ""
             }
            },
            "type": "scatterpolargl"
           }
          ],
          "scatterternary": [
           {
            "marker": {
             "colorbar": {
              "outlinewidth": 0,
              "ticks": ""
             }
            },
            "type": "scatterternary"
           }
          ],
          "surface": [
           {
            "colorbar": {
             "outlinewidth": 0,
             "ticks": ""
            },
            "colorscale": [
             [
              0,
              "#0d0887"
             ],
             [
              0.1111111111111111,
              "#46039f"
             ],
             [
              0.2222222222222222,
              "#7201a8"
             ],
             [
              0.3333333333333333,
              "#9c179e"
             ],
             [
              0.4444444444444444,
              "#bd3786"
             ],
             [
              0.5555555555555556,
              "#d8576b"
             ],
             [
              0.6666666666666666,
              "#ed7953"
             ],
             [
              0.7777777777777778,
              "#fb9f3a"
             ],
             [
              0.8888888888888888,
              "#fdca26"
             ],
             [
              1,
              "#f0f921"
             ]
            ],
            "type": "surface"
           }
          ],
          "table": [
           {
            "cells": {
             "fill": {
              "color": "#EBF0F8"
             },
             "line": {
              "color": "white"
             }
            },
            "header": {
             "fill": {
              "color": "#C8D4E3"
             },
             "line": {
              "color": "white"
             }
            },
            "type": "table"
           }
          ]
         },
         "layout": {
          "annotationdefaults": {
           "arrowcolor": "#2a3f5f",
           "arrowhead": 0,
           "arrowwidth": 1
          },
          "autotypenumbers": "strict",
          "coloraxis": {
           "colorbar": {
            "outlinewidth": 0,
            "ticks": ""
           }
          },
          "colorscale": {
           "diverging": [
            [
             0,
             "#8e0152"
            ],
            [
             0.1,
             "#c51b7d"
            ],
            [
             0.2,
             "#de77ae"
            ],
            [
             0.3,
             "#f1b6da"
            ],
            [
             0.4,
             "#fde0ef"
            ],
            [
             0.5,
             "#f7f7f7"
            ],
            [
             0.6,
             "#e6f5d0"
            ],
            [
             0.7,
             "#b8e186"
            ],
            [
             0.8,
             "#7fbc41"
            ],
            [
             0.9,
             "#4d9221"
            ],
            [
             1,
             "#276419"
            ]
           ],
           "sequential": [
            [
             0,
             "#0d0887"
            ],
            [
             0.1111111111111111,
             "#46039f"
            ],
            [
             0.2222222222222222,
             "#7201a8"
            ],
            [
             0.3333333333333333,
             "#9c179e"
            ],
            [
             0.4444444444444444,
             "#bd3786"
            ],
            [
             0.5555555555555556,
             "#d8576b"
            ],
            [
             0.6666666666666666,
             "#ed7953"
            ],
            [
             0.7777777777777778,
             "#fb9f3a"
            ],
            [
             0.8888888888888888,
             "#fdca26"
            ],
            [
             1,
             "#f0f921"
            ]
           ],
           "sequentialminus": [
            [
             0,
             "#0d0887"
            ],
            [
             0.1111111111111111,
             "#46039f"
            ],
            [
             0.2222222222222222,
             "#7201a8"
            ],
            [
             0.3333333333333333,
             "#9c179e"
            ],
            [
             0.4444444444444444,
             "#bd3786"
            ],
            [
             0.5555555555555556,
             "#d8576b"
            ],
            [
             0.6666666666666666,
             "#ed7953"
            ],
            [
             0.7777777777777778,
             "#fb9f3a"
            ],
            [
             0.8888888888888888,
             "#fdca26"
            ],
            [
             1,
             "#f0f921"
            ]
           ]
          },
          "colorway": [
           "#636efa",
           "#EF553B",
           "#00cc96",
           "#ab63fa",
           "#FFA15A",
           "#19d3f3",
           "#FF6692",
           "#B6E880",
           "#FF97FF",
           "#FECB52"
          ],
          "font": {
           "color": "#2a3f5f"
          },
          "geo": {
           "bgcolor": "white",
           "lakecolor": "white",
           "landcolor": "white",
           "showlakes": true,
           "showland": true,
           "subunitcolor": "#C8D4E3"
          },
          "hoverlabel": {
           "align": "left"
          },
          "hovermode": "closest",
          "mapbox": {
           "style": "light"
          },
          "paper_bgcolor": "white",
          "plot_bgcolor": "white",
          "polar": {
           "angularaxis": {
            "gridcolor": "#EBF0F8",
            "linecolor": "#EBF0F8",
            "ticks": ""
           },
           "bgcolor": "white",
           "radialaxis": {
            "gridcolor": "#EBF0F8",
            "linecolor": "#EBF0F8",
            "ticks": ""
           }
          },
          "scene": {
           "xaxis": {
            "backgroundcolor": "white",
            "gridcolor": "#DFE8F3",
            "gridwidth": 2,
            "linecolor": "#EBF0F8",
            "showbackground": true,
            "ticks": "",
            "zerolinecolor": "#EBF0F8"
           },
           "yaxis": {
            "backgroundcolor": "white",
            "gridcolor": "#DFE8F3",
            "gridwidth": 2,
            "linecolor": "#EBF0F8",
            "showbackground": true,
            "ticks": "",
            "zerolinecolor": "#EBF0F8"
           },
           "zaxis": {
            "backgroundcolor": "white",
            "gridcolor": "#DFE8F3",
            "gridwidth": 2,
            "linecolor": "#EBF0F8",
            "showbackground": true,
            "ticks": "",
            "zerolinecolor": "#EBF0F8"
           }
          },
          "shapedefaults": {
           "line": {
            "color": "#2a3f5f"
           }
          },
          "ternary": {
           "aaxis": {
            "gridcolor": "#DFE8F3",
            "linecolor": "#A2B1C6",
            "ticks": ""
           },
           "baxis": {
            "gridcolor": "#DFE8F3",
            "linecolor": "#A2B1C6",
            "ticks": ""
           },
           "bgcolor": "white",
           "caxis": {
            "gridcolor": "#DFE8F3",
            "linecolor": "#A2B1C6",
            "ticks": ""
           }
          },
          "title": {
           "x": 0.05
          },
          "xaxis": {
           "automargin": true,
           "gridcolor": "#EBF0F8",
           "linecolor": "#EBF0F8",
           "ticks": "",
           "title": {
            "standoff": 15
           },
           "zerolinecolor": "#EBF0F8",
           "zerolinewidth": 2
          },
          "yaxis": {
           "automargin": true,
           "gridcolor": "#EBF0F8",
           "linecolor": "#EBF0F8",
           "ticks": "",
           "title": {
            "standoff": 15
           },
           "zerolinecolor": "#EBF0F8",
           "zerolinewidth": 2
          }
         }
        },
        "title": {
         "text": "Customer Satisfaction Distribution"
        },
        "xaxis": {
         "anchor": "y",
         "domain": [
          0,
          0.94
         ],
         "title": {
          "text": "Rating Score"
         }
        },
        "yaxis": {
         "anchor": "x",
         "domain": [
          0,
          1
         ],
         "title": {
          "text": "Number of Reviews"
         }
        },
        "yaxis2": {
         "anchor": "x",
         "overlaying": "y",
         "side": "right"
        }
       }
      }
     },
     "metadata": {},
     "output_type": "display_data"
    },
    {
     "data": {
      "application/vnd.plotly.v1+json": {
       "config": {
        "plotlyServerURL": "https://plot.ly"
       },
       "data": [
        {
         "marker": {
          "color": "#1f77b4"
         },
         "name": "Average Rating",
         "text": {
          "bdata": "LbKd76fGEEDNzMzMzEwQQDvfT42XbhBA",
          "dtype": "f8"
         },
         "textposition": "auto",
         "type": "bar",
         "x": [
          "1-3 days",
          "4-7 days",
          "8+ days"
         ],
         "y": {
          "bdata": "LbKd76fGEEDNzMzMzEwQQDvfT42XbhBA",
          "dtype": "f8"
         }
        }
       ],
       "layout": {
        "template": {
         "data": {
          "bar": [
           {
            "error_x": {
             "color": "#2a3f5f"
            },
            "error_y": {
             "color": "#2a3f5f"
            },
            "marker": {
             "line": {
              "color": "white",
              "width": 0.5
             },
             "pattern": {
              "fillmode": "overlay",
              "size": 10,
              "solidity": 0.2
             }
            },
            "type": "bar"
           }
          ],
          "barpolar": [
           {
            "marker": {
             "line": {
              "color": "white",
              "width": 0.5
             },
             "pattern": {
              "fillmode": "overlay",
              "size": 10,
              "solidity": 0.2
             }
            },
            "type": "barpolar"
           }
          ],
          "carpet": [
           {
            "aaxis": {
             "endlinecolor": "#2a3f5f",
             "gridcolor": "#C8D4E3",
             "linecolor": "#C8D4E3",
             "minorgridcolor": "#C8D4E3",
             "startlinecolor": "#2a3f5f"
            },
            "baxis": {
             "endlinecolor": "#2a3f5f",
             "gridcolor": "#C8D4E3",
             "linecolor": "#C8D4E3",
             "minorgridcolor": "#C8D4E3",
             "startlinecolor": "#2a3f5f"
            },
            "type": "carpet"
           }
          ],
          "choropleth": [
           {
            "colorbar": {
             "outlinewidth": 0,
             "ticks": ""
            },
            "type": "choropleth"
           }
          ],
          "contour": [
           {
            "colorbar": {
             "outlinewidth": 0,
             "ticks": ""
            },
            "colorscale": [
             [
              0,
              "#0d0887"
             ],
             [
              0.1111111111111111,
              "#46039f"
             ],
             [
              0.2222222222222222,
              "#7201a8"
             ],
             [
              0.3333333333333333,
              "#9c179e"
             ],
             [
              0.4444444444444444,
              "#bd3786"
             ],
             [
              0.5555555555555556,
              "#d8576b"
             ],
             [
              0.6666666666666666,
              "#ed7953"
             ],
             [
              0.7777777777777778,
              "#fb9f3a"
             ],
             [
              0.8888888888888888,
              "#fdca26"
             ],
             [
              1,
              "#f0f921"
             ]
            ],
            "type": "contour"
           }
          ],
          "contourcarpet": [
           {
            "colorbar": {
             "outlinewidth": 0,
             "ticks": ""
            },
            "type": "contourcarpet"
           }
          ],
          "heatmap": [
           {
            "colorbar": {
             "outlinewidth": 0,
             "ticks": ""
            },
            "colorscale": [
             [
              0,
              "#0d0887"
             ],
             [
              0.1111111111111111,
              "#46039f"
             ],
             [
              0.2222222222222222,
              "#7201a8"
             ],
             [
              0.3333333333333333,
              "#9c179e"
             ],
             [
              0.4444444444444444,
              "#bd3786"
             ],
             [
              0.5555555555555556,
              "#d8576b"
             ],
             [
              0.6666666666666666,
              "#ed7953"
             ],
             [
              0.7777777777777778,
              "#fb9f3a"
             ],
             [
              0.8888888888888888,
              "#fdca26"
             ],
             [
              1,
              "#f0f921"
             ]
            ],
            "type": "heatmap"
           }
          ],
          "histogram": [
           {
            "marker": {
             "pattern": {
              "fillmode": "overlay",
              "size": 10,
              "solidity": 0.2
             }
            },
            "type": "histogram"
           }
          ],
          "histogram2d": [
           {
            "colorbar": {
             "outlinewidth": 0,
             "ticks": ""
            },
            "colorscale": [
             [
              0,
              "#0d0887"
             ],
             [
              0.1111111111111111,
              "#46039f"
             ],
             [
              0.2222222222222222,
              "#7201a8"
             ],
             [
              0.3333333333333333,
              "#9c179e"
             ],
             [
              0.4444444444444444,
              "#bd3786"
             ],
             [
              0.5555555555555556,
              "#d8576b"
             ],
             [
              0.6666666666666666,
              "#ed7953"
             ],
             [
              0.7777777777777778,
              "#fb9f3a"
             ],
             [
              0.8888888888888888,
              "#fdca26"
             ],
             [
              1,
              "#f0f921"
             ]
            ],
            "type": "histogram2d"
           }
          ],
          "histogram2dcontour": [
           {
            "colorbar": {
             "outlinewidth": 0,
             "ticks": ""
            },
            "colorscale": [
             [
              0,
              "#0d0887"
             ],
             [
              0.1111111111111111,
              "#46039f"
             ],
             [
              0.2222222222222222,
              "#7201a8"
             ],
             [
              0.3333333333333333,
              "#9c179e"
             ],
             [
              0.4444444444444444,
              "#bd3786"
             ],
             [
              0.5555555555555556,
              "#d8576b"
             ],
             [
              0.6666666666666666,
              "#ed7953"
             ],
             [
              0.7777777777777778,
              "#fb9f3a"
             ],
             [
              0.8888888888888888,
              "#fdca26"
             ],
             [
              1,
              "#f0f921"
             ]
            ],
            "type": "histogram2dcontour"
           }
          ],
          "mesh3d": [
           {
            "colorbar": {
             "outlinewidth": 0,
             "ticks": ""
            },
            "type": "mesh3d"
           }
          ],
          "parcoords": [
           {
            "line": {
             "colorbar": {
              "outlinewidth": 0,
              "ticks": ""
             }
            },
            "type": "parcoords"
           }
          ],
          "pie": [
           {
            "automargin": true,
            "type": "pie"
           }
          ],
          "scatter": [
           {
            "fillpattern": {
             "fillmode": "overlay",
             "size": 10,
             "solidity": 0.2
            },
            "type": "scatter"
           }
          ],
          "scatter3d": [
           {
            "line": {
             "colorbar": {
              "outlinewidth": 0,
              "ticks": ""
             }
            },
            "marker": {
             "colorbar": {
              "outlinewidth": 0,
              "ticks": ""
             }
            },
            "type": "scatter3d"
           }
          ],
          "scattercarpet": [
           {
            "marker": {
             "colorbar": {
              "outlinewidth": 0,
              "ticks": ""
             }
            },
            "type": "scattercarpet"
           }
          ],
          "scattergeo": [
           {
            "marker": {
             "colorbar": {
              "outlinewidth": 0,
              "ticks": ""
             }
            },
            "type": "scattergeo"
           }
          ],
          "scattergl": [
           {
            "marker": {
             "colorbar": {
              "outlinewidth": 0,
              "ticks": ""
             }
            },
            "type": "scattergl"
           }
          ],
          "scattermap": [
           {
            "marker": {
             "colorbar": {
              "outlinewidth": 0,
              "ticks": ""
             }
            },
            "type": "scattermap"
           }
          ],
          "scattermapbox": [
           {
            "marker": {
             "colorbar": {
              "outlinewidth": 0,
              "ticks": ""
             }
            },
            "type": "scattermapbox"
           }
          ],
          "scatterpolar": [
           {
            "marker": {
             "colorbar": {
              "outlinewidth": 0,
              "ticks": ""
             }
            },
            "type": "scatterpolar"
           }
          ],
          "scatterpolargl": [
           {
            "marker": {
             "colorbar": {
              "outlinewidth": 0,
              "ticks": ""
             }
            },
            "type": "scatterpolargl"
           }
          ],
          "scatterternary": [
           {
            "marker": {
             "colorbar": {
              "outlinewidth": 0,
              "ticks": ""
             }
            },
            "type": "scatterternary"
           }
          ],
          "surface": [
           {
            "colorbar": {
             "outlinewidth": 0,
             "ticks": ""
            },
            "colorscale": [
             [
              0,
              "#0d0887"
             ],
             [
              0.1111111111111111,
              "#46039f"
             ],
             [
              0.2222222222222222,
              "#7201a8"
             ],
             [
              0.3333333333333333,
              "#9c179e"
             ],
             [
              0.4444444444444444,
              "#bd3786"
             ],
             [
              0.5555555555555556,
              "#d8576b"
             ],
             [
              0.6666666666666666,
              "#ed7953"
             ],
             [
              0.7777777777777778,
              "#fb9f3a"
             ],
             [
              0.8888888888888888,
              "#fdca26"
             ],
             [
              1,
              "#f0f921"
             ]
            ],
            "type": "surface"
           }
          ],
          "table": [
           {
            "cells": {
             "fill": {
              "color": "#EBF0F8"
             },
             "line": {
              "color": "white"
             }
            },
            "header": {
             "fill": {
              "color": "#C8D4E3"
             },
             "line": {
              "color": "white"
             }
            },
            "type": "table"
           }
          ]
         },
         "layout": {
          "annotationdefaults": {
           "arrowcolor": "#2a3f5f",
           "arrowhead": 0,
           "arrowwidth": 1
          },
          "autotypenumbers": "strict",
          "coloraxis": {
           "colorbar": {
            "outlinewidth": 0,
            "ticks": ""
           }
          },
          "colorscale": {
           "diverging": [
            [
             0,
             "#8e0152"
            ],
            [
             0.1,
             "#c51b7d"
            ],
            [
             0.2,
             "#de77ae"
            ],
            [
             0.3,
             "#f1b6da"
            ],
            [
             0.4,
             "#fde0ef"
            ],
            [
             0.5,
             "#f7f7f7"
            ],
            [
             0.6,
             "#e6f5d0"
            ],
            [
             0.7,
             "#b8e186"
            ],
            [
             0.8,
             "#7fbc41"
            ],
            [
             0.9,
             "#4d9221"
            ],
            [
             1,
             "#276419"
            ]
           ],
           "sequential": [
            [
             0,
             "#0d0887"
            ],
            [
             0.1111111111111111,
             "#46039f"
            ],
            [
             0.2222222222222222,
             "#7201a8"
            ],
            [
             0.3333333333333333,
             "#9c179e"
            ],
            [
             0.4444444444444444,
             "#bd3786"
            ],
            [
             0.5555555555555556,
             "#d8576b"
            ],
            [
             0.6666666666666666,
             "#ed7953"
            ],
            [
             0.7777777777777778,
             "#fb9f3a"
            ],
            [
             0.8888888888888888,
             "#fdca26"
            ],
            [
             1,
             "#f0f921"
            ]
           ],
           "sequentialminus": [
            [
             0,
             "#0d0887"
            ],
            [
             0.1111111111111111,
             "#46039f"
            ],
            [
             0.2222222222222222,
             "#7201a8"
            ],
            [
             0.3333333333333333,
             "#9c179e"
            ],
            [
             0.4444444444444444,
             "#bd3786"
            ],
            [
             0.5555555555555556,
             "#d8576b"
            ],
            [
             0.6666666666666666,
             "#ed7953"
            ],
            [
             0.7777777777777778,
             "#fb9f3a"
            ],
            [
             0.8888888888888888,
             "#fdca26"
            ],
            [
             1,
             "#f0f921"
            ]
           ]
          },
          "colorway": [
           "#636efa",
           "#EF553B",
           "#00cc96",
           "#ab63fa",
           "#FFA15A",
           "#19d3f3",
           "#FF6692",
           "#B6E880",
           "#FF97FF",
           "#FECB52"
          ],
          "font": {
           "color": "#2a3f5f"
          },
          "geo": {
           "bgcolor": "white",
           "lakecolor": "white",
           "landcolor": "white",
           "showlakes": true,
           "showland": true,
           "subunitcolor": "#C8D4E3"
          },
          "hoverlabel": {
           "align": "left"
          },
          "hovermode": "closest",
          "mapbox": {
           "style": "light"
          },
          "paper_bgcolor": "white",
          "plot_bgcolor": "white",
          "polar": {
           "angularaxis": {
            "gridcolor": "#EBF0F8",
            "linecolor": "#EBF0F8",
            "ticks": ""
           },
           "bgcolor": "white",
           "radialaxis": {
            "gridcolor": "#EBF0F8",
            "linecolor": "#EBF0F8",
            "ticks": ""
           }
          },
          "scene": {
           "xaxis": {
            "backgroundcolor": "white",
            "gridcolor": "#DFE8F3",
            "gridwidth": 2,
            "linecolor": "#EBF0F8",
            "showbackground": true,
            "ticks": "",
            "zerolinecolor": "#EBF0F8"
           },
           "yaxis": {
            "backgroundcolor": "white",
            "gridcolor": "#DFE8F3",
            "gridwidth": 2,
            "linecolor": "#EBF0F8",
            "showbackground": true,
            "ticks": "",
            "zerolinecolor": "#EBF0F8"
           },
           "zaxis": {
            "backgroundcolor": "white",
            "gridcolor": "#DFE8F3",
            "gridwidth": 2,
            "linecolor": "#EBF0F8",
            "showbackground": true,
            "ticks": "",
            "zerolinecolor": "#EBF0F8"
           }
          },
          "shapedefaults": {
           "line": {
            "color": "#2a3f5f"
           }
          },
          "ternary": {
           "aaxis": {
            "gridcolor": "#DFE8F3",
            "linecolor": "#A2B1C6",
            "ticks": ""
           },
           "baxis": {
            "gridcolor": "#DFE8F3",
            "linecolor": "#A2B1C6",
            "ticks": ""
           },
           "bgcolor": "white",
           "caxis": {
            "gridcolor": "#DFE8F3",
            "linecolor": "#A2B1C6",
            "ticks": ""
           }
          },
          "title": {
           "x": 0.05
          },
          "xaxis": {
           "automargin": true,
           "gridcolor": "#EBF0F8",
           "linecolor": "#EBF0F8",
           "ticks": "",
           "title": {
            "standoff": 15
           },
           "zerolinecolor": "#EBF0F8",
           "zerolinewidth": 2
          },
          "yaxis": {
           "automargin": true,
           "gridcolor": "#EBF0F8",
           "linecolor": "#EBF0F8",
           "ticks": "",
           "title": {
            "standoff": 15
           },
           "zerolinecolor": "#EBF0F8",
           "zerolinewidth": 2
          }
         }
        },
        "title": {
         "text": "Customer Satisfaction by Delivery Speed"
        },
        "xaxis": {
         "title": {
          "text": "Delivery Time Category"
         }
        },
        "yaxis": {
         "range": [
          0,
          5
         ],
         "title": {
          "text": "Average Rating (1-5)"
         }
        }
       }
      }
     },
     "metadata": {},
     "output_type": "display_data"
    }
   ],
   "source": [
    "# Create customer experience visualizations\n",
    "satisfaction_plot = metrics.plot_satisfaction_metrics(satisfaction_metrics)\n",
    "satisfaction_plot.show()\n",
    "\n",
    "delivery_analysis_plot = metrics.plot_delivery_analysis(satisfaction_delivery)\n",
    "delivery_analysis_plot.show()"
   ]
  },
  {
   "cell_type": "markdown",
   "id": "order-status-analysis",
   "metadata": {},
   "source": [
    "## Order Status & Operational Metrics\n",
    "\n",
    "Analysis of order fulfillment rates and operational efficiency."
   ]
  },
  {
   "cell_type": "code",
   "execution_count": 66,
   "id": "order-status-metrics",
   "metadata": {},
   "outputs": [
    {
     "name": "stdout",
     "output_type": "stream",
     "text": [
      "ORDER STATUS DISTRIBUTION (2023)\n",
      "========================================\n",
      "Delivered: 4,635 orders (93.6%)\n",
      "Shipped: 158 orders (3.2%)\n",
      "Canceled: 64 orders (1.3%)\n",
      "Processing: 59 orders (1.2%)\n",
      "Pending: 25 orders (0.5%)\n",
      "Returned: 9 orders (0.2%)\n",
      "\n",
      "OPERATIONAL METRICS:\n",
      "- Order Fulfillment Rate: 93.6%\n",
      "- Order Cancellation Rate: 1.3%\n",
      "- Return Rate: 0.2%\n",
      "- Success Rate (Delivered + Shipped): 96.8%\n"
     ]
    }
   ],
   "source": [
    "# Analyze order status distribution\n",
    "orders_data = loader.prepare_orders_data()\n",
    "target_year_orders = orders_data[orders_data['year'] == TARGET_YEAR]\n",
    "\n",
    "status_distribution = target_year_orders['order_status'].value_counts(normalize=True) * 100\n",
    "\n",
    "print(f\"ORDER STATUS DISTRIBUTION ({TARGET_YEAR})\")\n",
    "print(\"=\" * 40)\n",
    "for status, percentage in status_distribution.items():\n",
    "    count = target_year_orders['order_status'].value_counts()[status]\n",
    "    print(f\"{status.title()}: {count:,} orders ({percentage:.1f}%)\")\n",
    "\n",
    "# Key operational metrics\n",
    "fulfillment_rate = status_distribution.get('delivered', 0)\n",
    "cancellation_rate = status_distribution.get('canceled', 0)\n",
    "return_rate = status_distribution.get('returned', 0)\n",
    "\n",
    "print(f\"\\nOPERATIONAL METRICS:\")\n",
    "print(f\"- Order Fulfillment Rate: {fulfillment_rate:.1f}%\")\n",
    "print(f\"- Order Cancellation Rate: {cancellation_rate:.1f}%\")\n",
    "print(f\"- Return Rate: {return_rate:.1f}%\")\n",
    "print(f\"- Success Rate (Delivered + Shipped): {fulfillment_rate + status_distribution.get('shipped', 0):.1f}%\")"
   ]
  },
  {
   "cell_type": "markdown",
   "id": "executive-summary",
   "metadata": {},
   "source": [
    "## Executive Summary & Key Insights\n",
    "\n",
    "Comprehensive summary of findings and actionable business insights."
   ]
  },
  {
   "cell_type": "code",
   "execution_count": 67,
   "id": "generate-summary",
   "metadata": {},
   "outputs": [
    {
     "name": "stdout",
     "output_type": "stream",
     "text": [
      "\n",
      "BUSINESS METRICS SUMMARY REPORT\n",
      "================================\n",
      "\n",
      "REVENUE PERFORMANCE\n",
      "-------------------\n",
      "Total Revenue: $3,360,294.74\n",
      "Total Orders: 4,635\n",
      "Average Order Value: $724.98\n",
      "Average Item Price: $451.17\n",
      "\n",
      "YEAR-over-YEAR COMPARISON\n",
      "------------------------\n",
      "Revenue Growth: -2.46%\n",
      "Order Growth: -2.40%\n",
      "AOV Growth: -0.06%\n",
      "\n",
      "CUSTOMER SATISFACTION\n",
      "--------------------\n",
      "Average Rating: 4.10/5.0\n",
      "Total Reviews: 3,225\n",
      "Satisfaction Rate: 74.2% (4+ stars)\n",
      "Net Promoter Score: 24.1\n",
      "\n",
      "DELIVERY PERFORMANCE\n",
      "-------------------\n",
      "Average Delivery Time: 8.0 days\n",
      "Fast Delivery Rate: 7.2% (≤3 days)\n",
      "Slow Delivery Rate: 55.6% (>7 days)\n",
      "\n"
     ]
    }
   ],
   "source": [
    "# Generate comprehensive summary report\n",
    "summary_report = metrics.generate_summary_report(\n",
    "    revenue_metrics,\n",
    "    satisfaction_metrics, \n",
    "    delivery_metrics\n",
    ")\n",
    "\n",
    "print(summary_report)"
   ]
  },
  {
   "cell_type": "markdown",
   "id": "key-insights",
   "metadata": {},
   "source": [
    "## Key Business Insights & Recommendations\n",
    "\n",
    "Based on the comprehensive analysis above, here are the critical insights and actionable recommendations:\n",
    "\n",
    "### Revenue Performance\n",
    "- **Current Status**: Revenue performance shows year-over-year trends that require attention\n",
    "- **Monthly Volatility**: Revenue exhibits monthly fluctuations that should be monitored\n",
    "- **Action Items**: Focus on understanding seasonal patterns and implement revenue stabilization strategies\n",
    "\n",
    "### Product Portfolio\n",
    "- **Market Concentration**: Top product categories drive significant portion of revenue\n",
    "- **Diversification Opportunity**: Consider expanding high-performing categories\n",
    "- **Action Items**: Invest in inventory and marketing for top-performing categories\n",
    "\n",
    "### Customer Experience\n",
    "- **Satisfaction Levels**: Customer ratings indicate areas for improvement\n",
    "- **Delivery Impact**: Strong correlation between delivery speed and customer satisfaction\n",
    "- **Action Items**: Optimize logistics to improve delivery times and customer satisfaction\n",
    "\n",
    "### Geographic Performance\n",
    "- **Market Concentration**: Revenue is concentrated in specific states\n",
    "- **Expansion Opportunity**: Significant potential in underperforming regions\n",
    "- **Action Items**: Develop targeted marketing strategies for high-potential states\n",
    "\n",
    "### Operational Excellence\n",
    "- **Fulfillment Performance**: Order fulfillment rates demonstrate operational efficiency\n",
    "- **Process Optimization**: Opportunities exist to reduce cancellations and returns\n",
    "- **Action Items**: Implement process improvements to enhance operational metrics\n",
    "\n",
    "---\n",
    "\n",
    "## Next Steps\n",
    "\n",
    "1. **Regular Monitoring**: Implement monthly dashboards using this framework\n",
    "2. **Deep Dive Analysis**: Conduct detailed analysis on specific categories or regions\n",
    "3. **Predictive Analytics**: Develop forecasting models for revenue and demand planning\n",
    "4. **Customer Segmentation**: Analyze customer behavior patterns for targeted strategies\n",
    "5. **Competitive Analysis**: Benchmark performance against industry standards\n",
    "\n",
    "---\n",
    "\n",
    "*This analysis framework is designed to be reusable and can be easily configured for different time periods by modifying the configuration parameters at the beginning of the notebook.*"
   ]
  },
  {
   "cell_type": "code",
   "execution_count": 68,
   "id": "analysis-timestamp",
   "metadata": {},
   "outputs": [
    {
     "name": "stdout",
     "output_type": "stream",
     "text": [
      "Analysis completed: 2025-08-20 11:14:32\n",
      "Configuration used: Target Year 2023, Comparison Year 2022\n",
      "Total records analyzed: 7,448\n",
      "Analysis framework version: 1.0\n"
     ]
    }
   ],
   "source": [
    "# Analysis completion timestamp\n",
    "from datetime import datetime\n",
    "print(f\"Analysis completed: {datetime.now().strftime('%Y-%m-%d %H:%M:%S')}\")\n",
    "print(f\"Configuration used: Target Year {TARGET_YEAR}, Comparison Year {COMPARISON_YEAR}\")\n",
    "print(f\"Total records analyzed: {len(sales_target):,}\")\n",
    "print(f\"Analysis framework version: 1.0\")"
   ]
  }
 ],
 "metadata": {
  "kernelspec": {
   "display_name": "claude-data-analysis",
   "language": "python",
   "name": "claude-data-analysis"
  },
  "language_info": {
   "codemirror_mode": {
    "name": "ipython",
    "version": 3
   },
   "file_extension": ".py",
   "mimetype": "text/x-python",
   "name": "python",
   "nbconvert_exporter": "python",
   "pygments_lexer": "ipython3",
   "version": "3.13.2"
  }
 },
 "nbformat": 4,
 "nbformat_minor": 5
}
